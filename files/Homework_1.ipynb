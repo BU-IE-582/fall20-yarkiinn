{
 "cells": [
  {
   "cell_type": "code",
   "execution_count": null,
   "metadata": {},
   "outputs": [],
   "source": [
    "#title: Homework 1\n",
    "#author: Yarkın Erdoğan\n",
    "#date: 11/20/2020"
   ]
  },
  {
   "cell_type": "code",
   "execution_count": 1,
   "metadata": {},
   "outputs": [],
   "source": [
    "import warnings\n",
    "warnings.filterwarnings('ignore')"
   ]
  },
  {
   "cell_type": "code",
   "execution_count": 152,
   "metadata": {},
   "outputs": [],
   "source": [
    "import pandas as pd\n",
    "import numpy as np\n",
    "import seaborn as sns\n",
    "import matplotlib.pyplot as plt\n",
    "from scipy.stats import poisson\n",
    "from natsort import natsorted"
   ]
  },
  {
   "cell_type": "code",
   "execution_count": 3,
   "metadata": {},
   "outputs": [
    {
     "name": "stderr",
     "output_type": "stream",
     "text": [
      "b'Skipping line 382: expected 62 fields, saw 105\\nSkipping line 383: expected 62 fields, saw 105\\nSkipping line 384: expected 62 fields, saw 105\\nSkipping line 385: expected 62 fields, saw 105\\nSkipping line 386: expected 62 fields, saw 105\\nSkipping line 387: expected 62 fields, saw 105\\nSkipping line 388: expected 62 fields, saw 105\\nSkipping line 389: expected 62 fields, saw 105\\nSkipping line 390: expected 62 fields, saw 105\\nSkipping line 391: expected 62 fields, saw 105\\nSkipping line 392: expected 62 fields, saw 105\\nSkipping line 393: expected 62 fields, saw 105\\nSkipping line 394: expected 62 fields, saw 105\\nSkipping line 395: expected 62 fields, saw 105\\nSkipping line 396: expected 62 fields, saw 105\\nSkipping line 397: expected 62 fields, saw 105\\nSkipping line 398: expected 62 fields, saw 105\\nSkipping line 399: expected 62 fields, saw 105\\nSkipping line 400: expected 62 fields, saw 105\\nSkipping line 401: expected 62 fields, saw 105\\nSkipping line 402: expected 62 fields, saw 105\\nSkipping line 403: expected 62 fields, saw 105\\nSkipping line 404: expected 62 fields, saw 105\\nSkipping line 405: expected 62 fields, saw 105\\nSkipping line 406: expected 62 fields, saw 105\\nSkipping line 407: expected 62 fields, saw 105\\nSkipping line 408: expected 62 fields, saw 105\\nSkipping line 409: expected 62 fields, saw 105\\nSkipping line 410: expected 62 fields, saw 105\\nSkipping line 411: expected 62 fields, saw 105\\nSkipping line 412: expected 62 fields, saw 105\\nSkipping line 413: expected 62 fields, saw 105\\nSkipping line 414: expected 62 fields, saw 105\\nSkipping line 415: expected 62 fields, saw 105\\nSkipping line 416: expected 62 fields, saw 105\\nSkipping line 417: expected 62 fields, saw 105\\nSkipping line 418: expected 62 fields, saw 105\\nSkipping line 419: expected 62 fields, saw 105\\nSkipping line 420: expected 62 fields, saw 105\\nSkipping line 421: expected 62 fields, saw 105\\nSkipping line 422: expected 62 fields, saw 105\\nSkipping line 423: expected 62 fields, saw 105\\nSkipping line 424: expected 62 fields, saw 105\\nSkipping line 425: expected 62 fields, saw 105\\nSkipping line 426: expected 62 fields, saw 105\\nSkipping line 427: expected 62 fields, saw 105\\nSkipping line 428: expected 62 fields, saw 105\\nSkipping line 429: expected 62 fields, saw 105\\nSkipping line 430: expected 62 fields, saw 105\\nSkipping line 431: expected 62 fields, saw 105\\nSkipping line 432: expected 62 fields, saw 105\\nSkipping line 433: expected 62 fields, saw 105\\nSkipping line 434: expected 62 fields, saw 105\\nSkipping line 435: expected 62 fields, saw 105\\nSkipping line 436: expected 62 fields, saw 105\\nSkipping line 437: expected 62 fields, saw 105\\nSkipping line 438: expected 62 fields, saw 105\\nSkipping line 439: expected 62 fields, saw 105\\nSkipping line 440: expected 62 fields, saw 105\\nSkipping line 441: expected 62 fields, saw 105\\nSkipping line 442: expected 62 fields, saw 105\\nSkipping line 443: expected 62 fields, saw 105\\nSkipping line 444: expected 62 fields, saw 105\\nSkipping line 445: expected 62 fields, saw 105\\nSkipping line 446: expected 62 fields, saw 105\\nSkipping line 447: expected 62 fields, saw 105\\nSkipping line 448: expected 62 fields, saw 105\\nSkipping line 449: expected 62 fields, saw 105\\nSkipping line 450: expected 62 fields, saw 105\\nSkipping line 451: expected 62 fields, saw 105\\nSkipping line 452: expected 62 fields, saw 105\\nSkipping line 453: expected 62 fields, saw 105\\nSkipping line 454: expected 62 fields, saw 105\\nSkipping line 455: expected 62 fields, saw 105\\nSkipping line 456: expected 62 fields, saw 105\\nSkipping line 457: expected 62 fields, saw 105\\nSkipping line 458: expected 62 fields, saw 105\\nSkipping line 459: expected 62 fields, saw 105\\nSkipping line 460: expected 62 fields, saw 105\\nSkipping line 461: expected 62 fields, saw 105\\nSkipping line 462: expected 62 fields, saw 105\\nSkipping line 463: expected 62 fields, saw 105\\nSkipping line 464: expected 62 fields, saw 105\\nSkipping line 465: expected 62 fields, saw 105\\nSkipping line 466: expected 62 fields, saw 105\\nSkipping line 467: expected 62 fields, saw 105\\nSkipping line 468: expected 62 fields, saw 105\\nSkipping line 469: expected 62 fields, saw 105\\nSkipping line 470: expected 62 fields, saw 105\\nSkipping line 471: expected 62 fields, saw 105\\nSkipping line 472: expected 62 fields, saw 105\\nSkipping line 473: expected 62 fields, saw 105\\nSkipping line 474: expected 62 fields, saw 105\\nSkipping line 475: expected 62 fields, saw 105\\nSkipping line 476: expected 62 fields, saw 105\\nSkipping line 477: expected 62 fields, saw 105\\nSkipping line 478: expected 62 fields, saw 105\\nSkipping line 479: expected 62 fields, saw 105\\nSkipping line 480: expected 62 fields, saw 105\\nSkipping line 481: expected 62 fields, saw 105\\nSkipping line 482: expected 62 fields, saw 105\\nSkipping line 483: expected 62 fields, saw 105\\nSkipping line 484: expected 62 fields, saw 105\\nSkipping line 485: expected 62 fields, saw 105\\nSkipping line 486: expected 62 fields, saw 105\\nSkipping line 487: expected 62 fields, saw 105\\nSkipping line 488: expected 62 fields, saw 105\\nSkipping line 489: expected 62 fields, saw 105\\nSkipping line 490: expected 62 fields, saw 105\\nSkipping line 491: expected 62 fields, saw 105\\nSkipping line 492: expected 62 fields, saw 105\\nSkipping line 493: expected 62 fields, saw 105\\nSkipping line 494: expected 62 fields, saw 105\\nSkipping line 495: expected 62 fields, saw 105\\nSkipping line 496: expected 62 fields, saw 105\\nSkipping line 497: expected 62 fields, saw 105\\nSkipping line 498: expected 62 fields, saw 105\\nSkipping line 499: expected 62 fields, saw 105\\nSkipping line 500: expected 62 fields, saw 105\\nSkipping line 501: expected 62 fields, saw 105\\nSkipping line 502: expected 62 fields, saw 105\\nSkipping line 503: expected 62 fields, saw 105\\nSkipping line 504: expected 62 fields, saw 105\\nSkipping line 505: expected 62 fields, saw 105\\nSkipping line 506: expected 62 fields, saw 105\\nSkipping line 507: expected 62 fields, saw 105\\nSkipping line 508: expected 62 fields, saw 105\\nSkipping line 509: expected 62 fields, saw 105\\nSkipping line 510: expected 62 fields, saw 105\\nSkipping line 511: expected 62 fields, saw 105\\nSkipping line 512: expected 62 fields, saw 105\\nSkipping line 513: expected 62 fields, saw 105\\nSkipping line 514: expected 62 fields, saw 105\\nSkipping line 515: expected 62 fields, saw 105\\nSkipping line 516: expected 62 fields, saw 105\\nSkipping line 517: expected 62 fields, saw 105\\nSkipping line 518: expected 62 fields, saw 105\\nSkipping line 519: expected 62 fields, saw 105\\nSkipping line 520: expected 62 fields, saw 105\\nSkipping line 521: expected 62 fields, saw 105\\nSkipping line 522: expected 62 fields, saw 105\\nSkipping line 523: expected 62 fields, saw 105\\nSkipping line 524: expected 62 fields, saw 105\\nSkipping line 525: expected 62 fields, saw 105\\nSkipping line 526: expected 62 fields, saw 105\\nSkipping line 527: expected 62 fields, saw 105\\nSkipping line 528: expected 62 fields, saw 105\\nSkipping line 529: expected 62 fields, saw 105\\nSkipping line 530: expected 62 fields, saw 105\\nSkipping line 531: expected 62 fields, saw 105\\nSkipping line 532: expected 62 fields, saw 105\\nSkipping line 533: expected 62 fields, saw 105\\nSkipping line 534: expected 62 fields, saw 105\\nSkipping line 535: expected 62 fields, saw 105\\nSkipping line 536: expected 62 fields, saw 105\\nSkipping line 537: expected 62 fields, saw 105\\nSkipping line 538: expected 62 fields, saw 105\\nSkipping line 539: expected 62 fields, saw 105\\nSkipping line 540: expected 62 fields, saw 105\\nSkipping line 541: expected 62 fields, saw 105\\nSkipping line 542: expected 62 fields, saw 105\\nSkipping line 543: expected 62 fields, saw 105\\nSkipping line 544: expected 62 fields, saw 105\\nSkipping line 545: expected 62 fields, saw 105\\nSkipping line 546: expected 62 fields, saw 105\\nSkipping line 547: expected 62 fields, saw 105\\nSkipping line 548: expected 62 fields, saw 105\\nSkipping line 549: expected 62 fields, saw 105\\nSkipping line 550: expected 62 fields, saw 105\\nSkipping line 551: expected 62 fields, saw 105\\nSkipping line 552: expected 62 fields, saw 105\\nSkipping line 553: expected 62 fields, saw 105\\nSkipping line 554: expected 62 fields, saw 105\\nSkipping line 555: expected 62 fields, saw 105\\nSkipping line 556: expected 62 fields, saw 105\\nSkipping line 557: expected 62 fields, saw 105\\nSkipping line 558: expected 62 fields, saw 105\\nSkipping line 559: expected 62 fields, saw 105\\nSkipping line 560: expected 62 fields, saw 105\\nSkipping line 561: expected 62 fields, saw 105\\nSkipping line 562: expected 62 fields, saw 105\\nSkipping line 563: expected 62 fields, saw 105\\nSkipping line 564: expected 62 fields, saw 105\\nSkipping line 565: expected 62 fields, saw 105\\nSkipping line 566: expected 62 fields, saw 105\\nSkipping line 567: expected 62 fields, saw 105\\nSkipping line 568: expected 62 fields, saw 105\\nSkipping line 569: expected 62 fields, saw 105\\nSkipping line 570: expected 62 fields, saw 105\\nSkipping line 571: expected 62 fields, saw 105\\nSkipping line 572: expected 62 fields, saw 105\\nSkipping line 573: expected 62 fields, saw 105\\nSkipping line 574: expected 62 fields, saw 105\\nSkipping line 575: expected 62 fields, saw 105\\nSkipping line 576: expected 62 fields, saw 105\\nSkipping line 577: expected 62 fields, saw 105\\nSkipping line 578: expected 62 fields, saw 105\\nSkipping line 579: expected 62 fields, saw 105\\nSkipping line 580: expected 62 fields, saw 105\\nSkipping line 581: expected 62 fields, saw 105\\nSkipping line 582: expected 62 fields, saw 105\\nSkipping line 583: expected 62 fields, saw 105\\nSkipping line 584: expected 62 fields, saw 105\\nSkipping line 585: expected 62 fields, saw 105\\nSkipping line 586: expected 62 fields, saw 105\\nSkipping line 587: expected 62 fields, saw 105\\nSkipping line 588: expected 62 fields, saw 105\\nSkipping line 589: expected 62 fields, saw 105\\nSkipping line 590: expected 62 fields, saw 105\\nSkipping line 591: expected 62 fields, saw 105\\nSkipping line 592: expected 62 fields, saw 105\\nSkipping line 593: expected 62 fields, saw 105\\nSkipping line 594: expected 62 fields, saw 105\\nSkipping line 595: expected 62 fields, saw 105\\nSkipping line 596: expected 62 fields, saw 105\\nSkipping line 597: expected 62 fields, saw 105\\nSkipping line 598: expected 62 fields, saw 105\\nSkipping line 599: expected 62 fields, saw 105\\nSkipping line 600: expected 62 fields, saw 105\\nSkipping line 601: expected 62 fields, saw 105\\nSkipping line 602: expected 62 fields, saw 105\\nSkipping line 603: expected 62 fields, saw 105\\nSkipping line 604: expected 62 fields, saw 105\\nSkipping line 605: expected 62 fields, saw 105\\nSkipping line 606: expected 62 fields, saw 105\\nSkipping line 607: expected 62 fields, saw 105\\nSkipping line 608: expected 62 fields, saw 105\\nSkipping line 609: expected 62 fields, saw 105\\nSkipping line 610: expected 62 fields, saw 105\\nSkipping line 611: expected 62 fields, saw 105\\nSkipping line 612: expected 62 fields, saw 105\\nSkipping line 613: expected 62 fields, saw 105\\nSkipping line 614: expected 62 fields, saw 105\\nSkipping line 615: expected 62 fields, saw 105\\nSkipping line 616: expected 62 fields, saw 105\\nSkipping line 617: expected 62 fields, saw 105\\nSkipping line 618: expected 62 fields, saw 105\\nSkipping line 619: expected 62 fields, saw 105\\nSkipping line 620: expected 62 fields, saw 105\\nSkipping line 621: expected 62 fields, saw 105\\nSkipping line 622: expected 62 fields, saw 105\\nSkipping line 623: expected 62 fields, saw 105\\nSkipping line 624: expected 62 fields, saw 105\\nSkipping line 625: expected 62 fields, saw 105\\nSkipping line 626: expected 62 fields, saw 105\\nSkipping line 627: expected 62 fields, saw 105\\nSkipping line 628: expected 62 fields, saw 105\\nSkipping line 629: expected 62 fields, saw 105\\nSkipping line 630: expected 62 fields, saw 105\\nSkipping line 631: expected 62 fields, saw 105\\nSkipping line 632: expected 62 fields, saw 105\\nSkipping line 633: expected 62 fields, saw 105\\nSkipping line 634: expected 62 fields, saw 105\\nSkipping line 635: expected 62 fields, saw 105\\nSkipping line 636: expected 62 fields, saw 105\\nSkipping line 637: expected 62 fields, saw 105\\nSkipping line 638: expected 62 fields, saw 105\\nSkipping line 639: expected 62 fields, saw 105\\nSkipping line 640: expected 62 fields, saw 105\\nSkipping line 641: expected 62 fields, saw 105\\nSkipping line 642: expected 62 fields, saw 105\\nSkipping line 643: expected 62 fields, saw 105\\nSkipping line 644: expected 62 fields, saw 105\\nSkipping line 645: expected 62 fields, saw 105\\nSkipping line 646: expected 62 fields, saw 105\\nSkipping line 647: expected 62 fields, saw 105\\nSkipping line 648: expected 62 fields, saw 105\\nSkipping line 649: expected 62 fields, saw 105\\nSkipping line 650: expected 62 fields, saw 105\\nSkipping line 651: expected 62 fields, saw 105\\nSkipping line 652: expected 62 fields, saw 105\\nSkipping line 653: expected 62 fields, saw 105\\nSkipping line 654: expected 62 fields, saw 105\\nSkipping line 655: expected 62 fields, saw 105\\nSkipping line 656: expected 62 fields, saw 105\\nSkipping line 657: expected 62 fields, saw 105\\nSkipping line 658: expected 62 fields, saw 105\\nSkipping line 659: expected 62 fields, saw 105\\nSkipping line 660: expected 62 fields, saw 105\\nSkipping line 661: expected 62 fields, saw 105\\nSkipping line 662: expected 62 fields, saw 105\\nSkipping line 663: expected 62 fields, saw 105\\nSkipping line 664: expected 62 fields, saw 105\\nSkipping line 665: expected 62 fields, saw 105\\nSkipping line 666: expected 62 fields, saw 105\\nSkipping line 667: expected 62 fields, saw 105\\nSkipping line 668: expected 62 fields, saw 105\\nSkipping line 669: expected 62 fields, saw 105\\nSkipping line 670: expected 62 fields, saw 105\\nSkipping line 671: expected 62 fields, saw 105\\nSkipping line 672: expected 62 fields, saw 105\\nSkipping line 673: expected 62 fields, saw 105\\nSkipping line 674: expected 62 fields, saw 105\\nSkipping line 675: expected 62 fields, saw 105\\nSkipping line 676: expected 62 fields, saw 105\\nSkipping line 677: expected 62 fields, saw 105\\nSkipping line 678: expected 62 fields, saw 105\\nSkipping line 679: expected 62 fields, saw 105\\nSkipping line 680: expected 62 fields, saw 105\\nSkipping line 681: expected 62 fields, saw 105\\nSkipping line 682: expected 62 fields, saw 105\\nSkipping line 683: expected 62 fields, saw 105\\nSkipping line 684: expected 62 fields, saw 105\\nSkipping line 685: expected 62 fields, saw 105\\nSkipping line 686: expected 62 fields, saw 105\\nSkipping line 687: expected 62 fields, saw 105\\nSkipping line 688: expected 62 fields, saw 105\\nSkipping line 689: expected 62 fields, saw 105\\nSkipping line 690: expected 62 fields, saw 105\\nSkipping line 691: expected 62 fields, saw 105\\nSkipping line 692: expected 62 fields, saw 105\\nSkipping line 693: expected 62 fields, saw 105\\nSkipping line 694: expected 62 fields, saw 105\\nSkipping line 695: expected 62 fields, saw 105\\nSkipping line 696: expected 62 fields, saw 105\\nSkipping line 697: expected 62 fields, saw 105\\nSkipping line 698: expected 62 fields, saw 105\\nSkipping line 699: expected 62 fields, saw 105\\nSkipping line 700: expected 62 fields, saw 105\\nSkipping line 701: expected 62 fields, saw 105\\nSkipping line 702: expected 62 fields, saw 105\\nSkipping line 703: expected 62 fields, saw 105\\nSkipping line 704: expected 62 fields, saw 105\\nSkipping line 705: expected 62 fields, saw 105\\nSkipping line 706: expected 62 fields, saw 105\\nSkipping line 707: expected 62 fields, saw 105\\nSkipping line 708: expected 62 fields, saw 105\\nSkipping line 709: expected 62 fields, saw 105\\nSkipping line 710: expected 62 fields, saw 105\\nSkipping line 711: expected 62 fields, saw 105\\nSkipping line 712: expected 62 fields, saw 105\\nSkipping line 713: expected 62 fields, saw 105\\nSkipping line 714: expected 62 fields, saw 105\\nSkipping line 715: expected 62 fields, saw 105\\nSkipping line 716: expected 62 fields, saw 105\\nSkipping line 717: expected 62 fields, saw 105\\nSkipping line 718: expected 62 fields, saw 105\\nSkipping line 719: expected 62 fields, saw 105\\nSkipping line 720: expected 62 fields, saw 105\\nSkipping line 721: expected 62 fields, saw 105\\nSkipping line 722: expected 62 fields, saw 105\\nSkipping line 723: expected 62 fields, saw 105\\nSkipping line 724: expected 62 fields, saw 105\\nSkipping line 725: expected 62 fields, saw 105\\nSkipping line 726: expected 62 fields, saw 105\\nSkipping line 727: expected 62 fields, saw 105\\nSkipping line 728: expected 62 fields, saw 105\\nSkipping line 729: expected 62 fields, saw 105\\nSkipping line 730: expected 62 fields, saw 105\\nSkipping line 731: expected 62 fields, saw 105\\nSkipping line 732: expected 62 fields, saw 105\\nSkipping line 733: expected 62 fields, saw 105\\nSkipping line 734: expected 62 fields, saw 105\\nSkipping line 735: expected 62 fields, saw 105\\nSkipping line 736: expected 62 fields, saw 105\\nSkipping line 737: expected 62 fields, saw 105\\nSkipping line 738: expected 62 fields, saw 105\\nSkipping line 739: expected 62 fields, saw 105\\nSkipping line 740: expected 62 fields, saw 105\\nSkipping line 741: expected 62 fields, saw 105\\nSkipping line 742: expected 62 fields, saw 105\\nSkipping line 743: expected 62 fields, saw 105\\nSkipping line 744: expected 62 fields, saw 105\\nSkipping line 745: expected 62 fields, saw 105\\nSkipping line 746: expected 62 fields, saw 105\\nSkipping line 747: expected 62 fields, saw 105\\nSkipping line 748: expected 62 fields, saw 105\\nSkipping line 749: expected 62 fields, saw 105\\nSkipping line 750: expected 62 fields, saw 105\\nSkipping line 751: expected 62 fields, saw 105\\nSkipping line 752: expected 62 fields, saw 105\\nSkipping line 753: expected 62 fields, saw 105\\nSkipping line 754: expected 62 fields, saw 105\\nSkipping line 755: expected 62 fields, saw 105\\nSkipping line 756: expected 62 fields, saw 105\\nSkipping line 757: expected 62 fields, saw 105\\nSkipping line 758: expected 62 fields, saw 105\\nSkipping line 759: expected 62 fields, saw 105\\nSkipping line 760: expected 62 fields, saw 105\\nSkipping line 761: expected 62 fields, saw 105\\nSkipping line 762: expected 62 fields, saw 105\\nSkipping line 763: expected 62 fields, saw 105\\nSkipping line 764: expected 62 fields, saw 105\\nSkipping line 765: expected 62 fields, saw 105\\nSkipping line 766: expected 62 fields, saw 105\\nSkipping line 767: expected 62 fields, saw 105\\nSkipping line 768: expected 62 fields, saw 105\\nSkipping line 769: expected 62 fields, saw 105\\nSkipping line 770: expected 62 fields, saw 105\\nSkipping line 771: expected 62 fields, saw 105\\nSkipping line 772: expected 62 fields, saw 105\\nSkipping line 773: expected 62 fields, saw 105\\nSkipping line 774: expected 62 fields, saw 105\\nSkipping line 775: expected 62 fields, saw 105\\nSkipping line 776: expected 62 fields, saw 105\\nSkipping line 777: expected 62 fields, saw 105\\nSkipping line 778: expected 62 fields, saw 105\\nSkipping line 779: expected 62 fields, saw 105\\nSkipping line 780: expected 62 fields, saw 105\\nSkipping line 781: expected 62 fields, saw 105\\nSkipping line 782: expected 62 fields, saw 105\\nSkipping line 783: expected 62 fields, saw 105\\nSkipping line 784: expected 62 fields, saw 105\\nSkipping line 785: expected 62 fields, saw 105\\nSkipping line 786: expected 62 fields, saw 105\\nSkipping line 787: expected 62 fields, saw 105\\nSkipping line 788: expected 62 fields, saw 105\\nSkipping line 789: expected 62 fields, saw 105\\nSkipping line 790: expected 62 fields, saw 105\\nSkipping line 791: expected 62 fields, saw 105\\nSkipping line 792: expected 62 fields, saw 105\\nSkipping line 793: expected 62 fields, saw 105\\nSkipping line 794: expected 62 fields, saw 105\\nSkipping line 795: expected 62 fields, saw 105\\nSkipping line 796: expected 62 fields, saw 105\\nSkipping line 797: expected 62 fields, saw 105\\nSkipping line 798: expected 62 fields, saw 105\\nSkipping line 799: expected 62 fields, saw 105\\nSkipping line 800: expected 62 fields, saw 105\\nSkipping line 801: expected 62 fields, saw 105\\nSkipping line 802: expected 62 fields, saw 105\\nSkipping line 803: expected 62 fields, saw 105\\nSkipping line 804: expected 62 fields, saw 105\\nSkipping line 805: expected 62 fields, saw 105\\nSkipping line 806: expected 62 fields, saw 105\\nSkipping line 807: expected 62 fields, saw 105\\nSkipping line 808: expected 62 fields, saw 105\\nSkipping line 809: expected 62 fields, saw 105\\nSkipping line 810: expected 62 fields, saw 105\\nSkipping line 811: expected 62 fields, saw 105\\nSkipping line 812: expected 62 fields, saw 105\\nSkipping line 813: expected 62 fields, saw 105\\nSkipping line 814: expected 62 fields, saw 105\\nSkipping line 815: expected 62 fields, saw 105\\nSkipping line 816: expected 62 fields, saw 105\\nSkipping line 817: expected 62 fields, saw 105\\nSkipping line 818: expected 62 fields, saw 105\\nSkipping line 819: expected 62 fields, saw 105\\nSkipping line 820: expected 62 fields, saw 105\\nSkipping line 821: expected 62 fields, saw 105\\nSkipping line 822: expected 62 fields, saw 105\\nSkipping line 823: expected 62 fields, saw 105\\nSkipping line 824: expected 62 fields, saw 105\\nSkipping line 825: expected 62 fields, saw 105\\nSkipping line 826: expected 62 fields, saw 105\\nSkipping line 827: expected 62 fields, saw 105\\nSkipping line 828: expected 62 fields, saw 105\\nSkipping line 829: expected 62 fields, saw 105\\nSkipping line 830: expected 62 fields, saw 105\\nSkipping line 831: expected 62 fields, saw 105\\nSkipping line 832: expected 62 fields, saw 105\\nSkipping line 833: expected 62 fields, saw 105\\nSkipping line 834: expected 62 fields, saw 105\\nSkipping line 835: expected 62 fields, saw 105\\nSkipping line 836: expected 62 fields, saw 105\\nSkipping line 837: expected 62 fields, saw 105\\nSkipping line 838: expected 62 fields, saw 105\\nSkipping line 839: expected 62 fields, saw 105\\n'\n"
     ]
    }
   ],
   "source": [
    "df=pd.read_csv(\"merged.csv\",error_bad_lines=False)\n"
   ]
  },
  {
   "cell_type": "code",
   "execution_count": null,
   "metadata": {},
   "outputs": [],
   "source": [
    "#Task 1"
   ]
  },
  {
   "cell_type": "code",
   "execution_count": 4,
   "metadata": {},
   "outputs": [
    {
     "data": {
      "text/plain": [
       "(380, 62)"
      ]
     },
     "execution_count": 4,
     "metadata": {},
     "output_type": "execute_result"
    }
   ],
   "source": [
    "df.shape"
   ]
  },
  {
   "cell_type": "code",
   "execution_count": 5,
   "metadata": {},
   "outputs": [
    {
     "data": {
      "text/html": [
       "<div>\n",
       "<style scoped>\n",
       "    .dataframe tbody tr th:only-of-type {\n",
       "        vertical-align: middle;\n",
       "    }\n",
       "\n",
       "    .dataframe tbody tr th {\n",
       "        vertical-align: top;\n",
       "    }\n",
       "\n",
       "    .dataframe thead th {\n",
       "        text-align: right;\n",
       "    }\n",
       "</style>\n",
       "<table border=\"1\" class=\"dataframe\">\n",
       "  <thead>\n",
       "    <tr style=\"text-align: right;\">\n",
       "      <th></th>\n",
       "      <th>Div</th>\n",
       "      <th>Date</th>\n",
       "      <th>HomeTeam</th>\n",
       "      <th>AwayTeam</th>\n",
       "      <th>FTHG</th>\n",
       "      <th>FTAG</th>\n",
       "      <th>FTR</th>\n",
       "      <th>HTHG</th>\n",
       "      <th>HTAG</th>\n",
       "      <th>HTR</th>\n",
       "      <th>...</th>\n",
       "      <th>BbAv&lt;2.5</th>\n",
       "      <th>BbAH</th>\n",
       "      <th>BbAHh</th>\n",
       "      <th>BbMxAHH</th>\n",
       "      <th>BbAvAHH</th>\n",
       "      <th>BbMxAHA</th>\n",
       "      <th>BbAvAHA</th>\n",
       "      <th>PSCH</th>\n",
       "      <th>PSCD</th>\n",
       "      <th>PSCA</th>\n",
       "    </tr>\n",
       "  </thead>\n",
       "  <tbody>\n",
       "    <tr>\n",
       "      <th>0</th>\n",
       "      <td>E0</td>\n",
       "      <td>10/08/2018</td>\n",
       "      <td>Man United</td>\n",
       "      <td>Leicester</td>\n",
       "      <td>2</td>\n",
       "      <td>1</td>\n",
       "      <td>H</td>\n",
       "      <td>1</td>\n",
       "      <td>0</td>\n",
       "      <td>H</td>\n",
       "      <td>...</td>\n",
       "      <td>1.79</td>\n",
       "      <td>17</td>\n",
       "      <td>-0.75</td>\n",
       "      <td>1.75</td>\n",
       "      <td>1.70</td>\n",
       "      <td>2.29</td>\n",
       "      <td>2.21</td>\n",
       "      <td>1.55</td>\n",
       "      <td>4.07</td>\n",
       "      <td>7.69</td>\n",
       "    </tr>\n",
       "    <tr>\n",
       "      <th>1</th>\n",
       "      <td>E0</td>\n",
       "      <td>11/08/2018</td>\n",
       "      <td>Bournemouth</td>\n",
       "      <td>Cardiff</td>\n",
       "      <td>2</td>\n",
       "      <td>0</td>\n",
       "      <td>H</td>\n",
       "      <td>1</td>\n",
       "      <td>0</td>\n",
       "      <td>H</td>\n",
       "      <td>...</td>\n",
       "      <td>1.83</td>\n",
       "      <td>20</td>\n",
       "      <td>-0.75</td>\n",
       "      <td>2.20</td>\n",
       "      <td>2.13</td>\n",
       "      <td>1.80</td>\n",
       "      <td>1.75</td>\n",
       "      <td>1.88</td>\n",
       "      <td>3.61</td>\n",
       "      <td>4.70</td>\n",
       "    </tr>\n",
       "    <tr>\n",
       "      <th>2</th>\n",
       "      <td>E0</td>\n",
       "      <td>11/08/2018</td>\n",
       "      <td>Fulham</td>\n",
       "      <td>Crystal Palace</td>\n",
       "      <td>0</td>\n",
       "      <td>2</td>\n",
       "      <td>A</td>\n",
       "      <td>0</td>\n",
       "      <td>1</td>\n",
       "      <td>A</td>\n",
       "      <td>...</td>\n",
       "      <td>1.87</td>\n",
       "      <td>22</td>\n",
       "      <td>-0.25</td>\n",
       "      <td>2.18</td>\n",
       "      <td>2.11</td>\n",
       "      <td>1.81</td>\n",
       "      <td>1.77</td>\n",
       "      <td>2.62</td>\n",
       "      <td>3.38</td>\n",
       "      <td>2.90</td>\n",
       "    </tr>\n",
       "    <tr>\n",
       "      <th>3</th>\n",
       "      <td>E0</td>\n",
       "      <td>11/08/2018</td>\n",
       "      <td>Huddersfield</td>\n",
       "      <td>Chelsea</td>\n",
       "      <td>0</td>\n",
       "      <td>3</td>\n",
       "      <td>A</td>\n",
       "      <td>0</td>\n",
       "      <td>2</td>\n",
       "      <td>A</td>\n",
       "      <td>...</td>\n",
       "      <td>1.84</td>\n",
       "      <td>23</td>\n",
       "      <td>1.00</td>\n",
       "      <td>1.84</td>\n",
       "      <td>1.80</td>\n",
       "      <td>2.13</td>\n",
       "      <td>2.06</td>\n",
       "      <td>7.24</td>\n",
       "      <td>3.95</td>\n",
       "      <td>1.58</td>\n",
       "    </tr>\n",
       "    <tr>\n",
       "      <th>4</th>\n",
       "      <td>E0</td>\n",
       "      <td>11/08/2018</td>\n",
       "      <td>Newcastle</td>\n",
       "      <td>Tottenham</td>\n",
       "      <td>1</td>\n",
       "      <td>2</td>\n",
       "      <td>A</td>\n",
       "      <td>1</td>\n",
       "      <td>2</td>\n",
       "      <td>A</td>\n",
       "      <td>...</td>\n",
       "      <td>1.81</td>\n",
       "      <td>20</td>\n",
       "      <td>0.25</td>\n",
       "      <td>2.20</td>\n",
       "      <td>2.12</td>\n",
       "      <td>1.80</td>\n",
       "      <td>1.76</td>\n",
       "      <td>4.74</td>\n",
       "      <td>3.53</td>\n",
       "      <td>1.89</td>\n",
       "    </tr>\n",
       "  </tbody>\n",
       "</table>\n",
       "<p>5 rows × 62 columns</p>\n",
       "</div>"
      ],
      "text/plain": [
       "  Div        Date      HomeTeam        AwayTeam  FTHG  FTAG FTR  HTHG  HTAG  \\\n",
       "0  E0  10/08/2018    Man United       Leicester     2     1   H     1     0   \n",
       "1  E0  11/08/2018   Bournemouth         Cardiff     2     0   H     1     0   \n",
       "2  E0  11/08/2018        Fulham  Crystal Palace     0     2   A     0     1   \n",
       "3  E0  11/08/2018  Huddersfield         Chelsea     0     3   A     0     2   \n",
       "4  E0  11/08/2018     Newcastle       Tottenham     1     2   A     1     2   \n",
       "\n",
       "  HTR  ... BbAv<2.5  BbAH  BbAHh  BbMxAHH  BbAvAHH  BbMxAHA  BbAvAHA  PSCH  \\\n",
       "0   H  ...     1.79    17  -0.75     1.75     1.70     2.29     2.21  1.55   \n",
       "1   H  ...     1.83    20  -0.75     2.20     2.13     1.80     1.75  1.88   \n",
       "2   A  ...     1.87    22  -0.25     2.18     2.11     1.81     1.77  2.62   \n",
       "3   A  ...     1.84    23   1.00     1.84     1.80     2.13     2.06  7.24   \n",
       "4   A  ...     1.81    20   0.25     2.20     2.12     1.80     1.76  4.74   \n",
       "\n",
       "   PSCD  PSCA  \n",
       "0  4.07  7.69  \n",
       "1  3.61  4.70  \n",
       "2  3.38  2.90  \n",
       "3  3.95  1.58  \n",
       "4  3.53  1.89  \n",
       "\n",
       "[5 rows x 62 columns]"
      ]
     },
     "execution_count": 5,
     "metadata": {},
     "output_type": "execute_result"
    }
   ],
   "source": [
    "df.head()"
   ]
  },
  {
   "cell_type": "code",
   "execution_count": 6,
   "metadata": {},
   "outputs": [
    {
     "data": {
      "image/png": "[encoded data removed]",
      "text/plain": [
       "<Figure size 432x288 with 1 Axes>"
      ]
     },
     "metadata": {
      "needs_background": "light"
     },
     "output_type": "display_data"
    }
   ],
   "source": [
    "k=sns.distplot(df.FTHG,kde=False,bins=7);\n",
    "k.set_xlabel(\"Home Goals\")\n",
    "k.set_ylabel(\"Number of Games\")\n",
    "k.set_title(\"Home Score(Goals)\");"
   ]
  },
  {
   "cell_type": "code",
   "execution_count": 7,
   "metadata": {},
   "outputs": [
    {
     "data": {
      "image/png": "[encoded data removed]",
      "text/plain": [
       "<Figure size 432x288 with 1 Axes>"
      ]
     },
     "metadata": {
      "needs_background": "light"
     },
     "output_type": "display_data"
    }
   ],
   "source": [
    "s=sns.distplot(df.FTAG,kde=False,bins=7);\n",
    "s.set_xlabel(\"Away Goals\")\n",
    "s.set_ylabel(\"Number of Games\")\n",
    "s.set_title(\"Away Score (Goals)\");"
   ]
  },
  {
   "cell_type": "code",
   "execution_count": 8,
   "metadata": {},
   "outputs": [
    {
     "data": {
      "image/png": "[encoded data removed]",
      "text/plain": [
       "<Figure size 432x288 with 1 Axes>"
      ]
     },
     "metadata": {
      "needs_background": "light"
     },
     "output_type": "display_data"
    }
   ],
   "source": [
    "m=sns.distplot(df.FTHG-df.FTAG,kde=False,bins=10);\n",
    "m.set_xlabel(\"Home Goals-Away Goals\")\n",
    "m.set_ylabel(\"Number of Games\")\n",
    "m.set_title(\"Home Score(Goals)– Away Score(Goals)\");"
   ]
  },
  {
   "cell_type": "code",
   "execution_count": 9,
   "metadata": {},
   "outputs": [
    {
     "data": {
      "text/plain": [
       "1    116\n",
       "2     95\n",
       "0     88\n",
       "3     48\n",
       "4     22\n",
       "5      8\n",
       "6      3\n",
       "Name: FTHG, dtype: int64"
      ]
     },
     "execution_count": 9,
     "metadata": {},
     "output_type": "execute_result"
    }
   ],
   "source": [
    "df[\"FTHG\"].value_counts()"
   ]
  },
  {
   "cell_type": "code",
   "execution_count": 431,
   "metadata": {},
   "outputs": [
    {
     "data": {
      "text/plain": [
       "1.2526315789473683"
      ]
     },
     "execution_count": 431,
     "metadata": {},
     "output_type": "execute_result"
    }
   ],
   "source": [
    "df[\"FTAG\"].mean()    "
   ]
  },
  {
   "cell_type": "code",
   "execution_count": 432,
   "metadata": {},
   "outputs": [
    {
     "data": {
      "text/plain": [
       "1.568421052631579"
      ]
     },
     "execution_count": 432,
     "metadata": {},
     "output_type": "execute_result"
    }
   ],
   "source": [
    "df[\"FTHG\"].mean()"
   ]
  },
  {
   "cell_type": "code",
   "execution_count": 13,
   "metadata": {},
   "outputs": [
    {
     "data": {
      "image/png": "[encoded data removed]",
      "text/plain": [
       "<Figure size 432x288 with 1 Axes>"
      ]
     },
     "metadata": {
      "needs_background": "light"
     },
     "output_type": "display_data"
    }
   ],
   "source": [
    "x=df[\"FTAG\"]\n",
    "bins = 7\n",
    "n, bins_edges,patches = plt.hist(x,bins,density=1, facecolor='darkblue', ec='white', log=0)\n",
    "mu=df[\"FTAG\"].mean()\n",
    "x_plot = np.arange(0, max(df[\"FTAG\"]+1))\n",
    "plt.plot(x_plot, poisson.pmf(x_plot, mu), label='Poisson')\n",
    "plt.title('Poisson Fit on FTAG')\n",
    "plt.show()"
   ]
  },
  {
   "cell_type": "code",
   "execution_count": 14,
   "metadata": {},
   "outputs": [
    {
     "data": {
      "image/png": "[encoded data removed]",
      "text/plain": [
       "<Figure size 432x288 with 1 Axes>"
      ]
     },
     "metadata": {
      "needs_background": "light"
     },
     "output_type": "display_data"
    }
   ],
   "source": [
    "x2=df[\"FTHG\"]\n",
    "bins = 7\n",
    "n, bins_edges,patches = plt.hist(x2,bins,density=1, facecolor='darkblue', ec='white', log=0)\n",
    "mu2=df[\"FTHG\"].mean()\n",
    "x2_plot = np.arange(0, max(df[\"FTHG\"]+1))\n",
    "plt.plot(x2_plot, poisson.pmf(x2_plot, mu2), label='Poisson')\n",
    "plt.title('Poisson Fit on FTHG')\n",
    "plt.show()"
   ]
  },
  {
   "cell_type": "code",
   "execution_count": 102,
   "metadata": {},
   "outputs": [],
   "source": [
    "#Task 2"
   ]
  },
  {
   "cell_type": "code",
   "execution_count": 103,
   "metadata": {},
   "outputs": [],
   "source": [
    "#BW"
   ]
  },
  {
   "cell_type": "code",
   "execution_count": 17,
   "metadata": {},
   "outputs": [],
   "source": [
    "bwh=1/df[\"BWH\"]"
   ]
  },
  {
   "cell_type": "code",
   "execution_count": 18,
   "metadata": {},
   "outputs": [
    {
     "data": {
      "text/plain": [
       "0    0.653595\n",
       "1    0.526316\n",
       "2    0.408163\n",
       "3    0.160000\n",
       "4    0.263158\n",
       "Name: BWH, dtype: float64"
      ]
     },
     "execution_count": 18,
     "metadata": {},
     "output_type": "execute_result"
    }
   ],
   "source": [
    "bwh.head()"
   ]
  },
  {
   "cell_type": "code",
   "execution_count": 19,
   "metadata": {},
   "outputs": [],
   "source": [
    "bwd=1/df[\"BWD\"]"
   ]
  },
  {
   "cell_type": "code",
   "execution_count": 20,
   "metadata": {},
   "outputs": [
    {
     "data": {
      "text/plain": [
       "0    0.250000\n",
       "1    0.294118\n",
       "2    0.303030\n",
       "3    0.256410\n",
       "4    0.285714\n",
       "Name: BWD, dtype: float64"
      ]
     },
     "execution_count": 20,
     "metadata": {},
     "output_type": "execute_result"
    }
   ],
   "source": [
    "bwd.head()"
   ]
  },
  {
   "cell_type": "code",
   "execution_count": 21,
   "metadata": {},
   "outputs": [
    {
     "data": {
      "text/plain": [
       "0    0.133333\n",
       "1    0.227273\n",
       "2    0.338983\n",
       "3    0.636943\n",
       "4    0.500000\n",
       "Name: BWA, dtype: float64"
      ]
     },
     "execution_count": 21,
     "metadata": {},
     "output_type": "execute_result"
    }
   ],
   "source": [
    "bwa=1/df[\"BWA\"]\n",
    "bwa.head()"
   ]
  },
  {
   "cell_type": "code",
   "execution_count": 22,
   "metadata": {},
   "outputs": [],
   "source": [
    "#Calculating BW values using Normalization"
   ]
  },
  {
   "cell_type": "code",
   "execution_count": 23,
   "metadata": {},
   "outputs": [],
   "source": [
    "tbw=bwh+bwa+bwd"
   ]
  },
  {
   "cell_type": "code",
   "execution_count": 24,
   "metadata": {},
   "outputs": [],
   "source": [
    "tbw_=1/tbw"
   ]
  },
  {
   "cell_type": "code",
   "execution_count": 25,
   "metadata": {},
   "outputs": [],
   "source": [
    "new_bwh=tbw_*bwh"
   ]
  },
  {
   "cell_type": "code",
   "execution_count": 26,
   "metadata": {},
   "outputs": [],
   "source": [
    "new_bwd=tbw_*bwd"
   ]
  },
  {
   "cell_type": "code",
   "execution_count": 27,
   "metadata": {},
   "outputs": [],
   "source": [
    "new_bwa=tbw_*bwa"
   ]
  },
  {
   "cell_type": "code",
   "execution_count": 28,
   "metadata": {},
   "outputs": [],
   "source": [
    "#IW"
   ]
  },
  {
   "cell_type": "code",
   "execution_count": 29,
   "metadata": {},
   "outputs": [
    {
     "data": {
      "text/plain": [
       "0    0.645161\n",
       "1    0.526316\n",
       "2    0.416667\n",
       "3    0.161290\n",
       "4    0.270270\n",
       "Name: IWH, dtype: float64"
      ]
     },
     "execution_count": 29,
     "metadata": {},
     "output_type": "execute_result"
    }
   ],
   "source": [
    "iwh=1/df[\"IWH\"]\n",
    "iwh.head()"
   ]
  },
  {
   "cell_type": "code",
   "execution_count": 30,
   "metadata": {},
   "outputs": [
    {
     "data": {
      "text/plain": [
       "0    0.263158\n",
       "1    0.285714\n",
       "2    0.303030\n",
       "3    0.250000\n",
       "4    0.298507\n",
       "Name: IWD, dtype: float64"
      ]
     },
     "execution_count": 30,
     "metadata": {},
     "output_type": "execute_result"
    }
   ],
   "source": [
    "iwd=1/df[\"IWD\"]\n",
    "iwd.head()"
   ]
  },
  {
   "cell_type": "code",
   "execution_count": 31,
   "metadata": {},
   "outputs": [
    {
     "data": {
      "text/plain": [
       "0    0.142857\n",
       "1    0.243902\n",
       "2    0.338983\n",
       "3    0.645161\n",
       "4    0.487805\n",
       "Name: IWA, dtype: float64"
      ]
     },
     "execution_count": 31,
     "metadata": {},
     "output_type": "execute_result"
    }
   ],
   "source": [
    "iwa=1/df[\"IWA\"]\n",
    "iwa.head()"
   ]
  },
  {
   "cell_type": "code",
   "execution_count": 32,
   "metadata": {},
   "outputs": [],
   "source": [
    "#Calculating IW values using Normalization"
   ]
  },
  {
   "cell_type": "code",
   "execution_count": 33,
   "metadata": {},
   "outputs": [],
   "source": [
    "tiw=iwh+iwd+iwa"
   ]
  },
  {
   "cell_type": "code",
   "execution_count": 34,
   "metadata": {},
   "outputs": [],
   "source": [
    "tiw_=1/tiw"
   ]
  },
  {
   "cell_type": "code",
   "execution_count": 35,
   "metadata": {},
   "outputs": [],
   "source": [
    "new_iwh=tiw_*iwh"
   ]
  },
  {
   "cell_type": "code",
   "execution_count": 36,
   "metadata": {},
   "outputs": [],
   "source": [
    "new_iwd=tiw_*iwd"
   ]
  },
  {
   "cell_type": "code",
   "execution_count": 37,
   "metadata": {},
   "outputs": [],
   "source": [
    "new_iwa=tiw_*iwa"
   ]
  },
  {
   "cell_type": "code",
   "execution_count": 38,
   "metadata": {},
   "outputs": [],
   "source": [
    "#PS"
   ]
  },
  {
   "cell_type": "code",
   "execution_count": 39,
   "metadata": {},
   "outputs": [
    {
     "data": {
      "text/plain": [
       "0    0.632911\n",
       "1    0.529101\n",
       "2    0.400000\n",
       "3    0.156006\n",
       "4    0.261097\n",
       "Name: PSH, dtype: float64"
      ]
     },
     "execution_count": 39,
     "metadata": {},
     "output_type": "execute_result"
    }
   ],
   "source": [
    "psh=1/df[\"PSH\"]\n",
    "psh.head()"
   ]
  },
  {
   "cell_type": "code",
   "execution_count": 40,
   "metadata": {},
   "outputs": [
    {
     "data": {
      "text/plain": [
       "0    0.254453\n",
       "1    0.275482\n",
       "2    0.289017\n",
       "3    0.248756\n",
       "4    0.280112\n",
       "Name: PSD, dtype: float64"
      ]
     },
     "execution_count": 40,
     "metadata": {},
     "output_type": "execute_result"
    }
   ],
   "source": [
    "psd=1/df[\"PSD\"]\n",
    "psd.head()"
   ]
  },
  {
   "cell_type": "code",
   "execution_count": 41,
   "metadata": {},
   "outputs": [
    {
     "data": {
      "text/plain": [
       "0    0.133333\n",
       "1    0.218341\n",
       "2    0.333333\n",
       "3    0.617284\n",
       "4    0.480769\n",
       "Name: PSA, dtype: float64"
      ]
     },
     "execution_count": 41,
     "metadata": {},
     "output_type": "execute_result"
    }
   ],
   "source": [
    "psa=1/df[\"PSA\"]\n",
    "psa.head()"
   ]
  },
  {
   "cell_type": "code",
   "execution_count": 42,
   "metadata": {},
   "outputs": [],
   "source": [
    "#Calculating PS values using Normalization"
   ]
  },
  {
   "cell_type": "code",
   "execution_count": 43,
   "metadata": {},
   "outputs": [],
   "source": [
    "tps=psh+psd+psa"
   ]
  },
  {
   "cell_type": "code",
   "execution_count": 44,
   "metadata": {},
   "outputs": [],
   "source": [
    "tps_=1/tps"
   ]
  },
  {
   "cell_type": "code",
   "execution_count": 45,
   "metadata": {},
   "outputs": [],
   "source": [
    "new_psh=tps_*psh"
   ]
  },
  {
   "cell_type": "code",
   "execution_count": 46,
   "metadata": {},
   "outputs": [],
   "source": [
    "new_psd=tps_*psd"
   ]
  },
  {
   "cell_type": "code",
   "execution_count": 47,
   "metadata": {},
   "outputs": [],
   "source": [
    "new_psa=tps_*psa"
   ]
  },
  {
   "cell_type": "code",
   "execution_count": 48,
   "metadata": {},
   "outputs": [],
   "source": [
    "#WH"
   ]
  },
  {
   "cell_type": "code",
   "execution_count": 49,
   "metadata": {},
   "outputs": [
    {
     "data": {
      "text/plain": [
       "0    0.636943\n",
       "1    0.523560\n",
       "2    0.408163\n",
       "3    0.172414\n",
       "4    0.263158\n",
       "Name: WHH, dtype: float64"
      ]
     },
     "execution_count": 49,
     "metadata": {},
     "output_type": "execute_result"
    }
   ],
   "source": [
    "whh=1/df[\"WHH\"]\n",
    "whh.head()"
   ]
  },
  {
   "cell_type": "code",
   "execution_count": 50,
   "metadata": {},
   "outputs": [
    {
     "data": {
      "text/plain": [
       "0    0.263158\n",
       "1    0.285714\n",
       "2    0.303030\n",
       "3    0.256410\n",
       "4    0.312500\n",
       "Name: WHD, dtype: float64"
      ]
     },
     "execution_count": 50,
     "metadata": {},
     "output_type": "execute_result"
    }
   ],
   "source": [
    "whd=1/df[\"WHD\"]\n",
    "whd.head()"
   ]
  },
  {
   "cell_type": "code",
   "execution_count": 51,
   "metadata": {},
   "outputs": [
    {
     "data": {
      "text/plain": [
       "0    0.166667\n",
       "1    0.250000\n",
       "2    0.357143\n",
       "3    0.636943\n",
       "4    0.487805\n",
       "Name: WHA, dtype: float64"
      ]
     },
     "execution_count": 51,
     "metadata": {},
     "output_type": "execute_result"
    }
   ],
   "source": [
    "wha=1/df[\"WHA\"]\n",
    "wha.head()"
   ]
  },
  {
   "cell_type": "code",
   "execution_count": 52,
   "metadata": {},
   "outputs": [],
   "source": [
    "#Calculating WH values using Normalization"
   ]
  },
  {
   "cell_type": "code",
   "execution_count": 61,
   "metadata": {},
   "outputs": [],
   "source": [
    "twh=whh+wha+whd"
   ]
  },
  {
   "cell_type": "code",
   "execution_count": 62,
   "metadata": {},
   "outputs": [],
   "source": [
    "twh_=1/twh"
   ]
  },
  {
   "cell_type": "code",
   "execution_count": 63,
   "metadata": {},
   "outputs": [],
   "source": [
    "new_whh=twh_*whh"
   ]
  },
  {
   "cell_type": "code",
   "execution_count": 64,
   "metadata": {},
   "outputs": [],
   "source": [
    "new_whd=twh_*whd"
   ]
  },
  {
   "cell_type": "code",
   "execution_count": 65,
   "metadata": {},
   "outputs": [],
   "source": [
    "new_wha=twh_*wha"
   ]
  },
  {
   "cell_type": "code",
   "execution_count": null,
   "metadata": {},
   "outputs": [],
   "source": [
    "#Task 2 Q3"
   ]
  },
  {
   "cell_type": "code",
   "execution_count": 173,
   "metadata": {},
   "outputs": [],
   "source": [
    "df[\"wh_prob\"]=new_whh-new_wha"
   ]
  },
  {
   "cell_type": "code",
   "execution_count": 174,
   "metadata": {},
   "outputs": [
    {
     "data": {
      "text/plain": [
       "0      0.440842\n",
       "1      0.258252\n",
       "2      0.047757\n",
       "3     -0.435864\n",
       "4     -0.211241\n",
       "         ...   \n",
       "375    0.652993\n",
       "376    0.664234\n",
       "377    0.561325\n",
       "378    0.181818\n",
       "379    0.125993\n",
       "Name: wh_prob, Length: 380, dtype: float64"
      ]
     },
     "execution_count": 174,
     "metadata": {},
     "output_type": "execute_result"
    }
   ],
   "source": [
    "df[\"wh_prob\"]"
   ]
  },
  {
   "cell_type": "code",
   "execution_count": 187,
   "metadata": {},
   "outputs": [],
   "source": [
    "wh1=df[(df[\"FTR\"]==\"D\") & (df[\"wh_prob\"]>=-1)  & (df[\"wh_prob\"]<-0.8)].index   #Takimng matches resulted with \"Draw\" for each corresponding bin\n",
    "\n",
    "wh2=df[(df[\"FTR\"]==\"D\") & (df[\"wh_prob\"]>=-0.8)  & (df[\"wh_prob\"]<-0.6)].index    \n",
    "\n",
    "wh3=df[(df[\"FTR\"]==\"D\") & (df[\"wh_prob\"]>=-0.6)  & (df[\"wh_prob\"]<-0.4)].index\n",
    "\n",
    "wh4=df[(df[\"FTR\"]==\"D\") & (df[\"wh_prob\"]>=-0.4)  & (df[\"wh_prob\"]<-0.2)].index\n",
    "\n",
    "wh5=df[(df[\"FTR\"]==\"D\") & (df[\"wh_prob\"]>=-0.2)  & (df[\"wh_prob\"]<-2.22e-16)].index\n",
    "\n",
    "wh6=df[(df[\"FTR\"]==\"D\") & (df[\"wh_prob\"]>=-2.22e-16)  & (df[\"wh_prob\"]<0.2)].index\n",
    "\n",
    "wh7=df[(df[\"FTR\"]==\"D\") & (df[\"wh_prob\"]>=0.2)  & (df[\"wh_prob\"]<0.4)].index\n",
    "\n",
    "wh8=df[(df[\"FTR\"]==\"D\") & (df[\"wh_prob\"]>=0.4)  & (df[\"wh_prob\"]<0.6)].index\n",
    "\n",
    "wh9=df[(df[\"FTR\"]==\"D\") & (df[\"wh_prob\"]>=0.6)  & (df[\"wh_prob\"]<0.8)].index\n",
    "\n",
    "wh10=df[(df[\"FTR\"]==\"D\") & (df[\"wh_prob\"]>=0.8)  & (df[\"wh_prob\"]<1)].index\n"
   ]
  },
  {
   "cell_type": "code",
   "execution_count": 188,
   "metadata": {},
   "outputs": [],
   "source": [
    "wh_rows = [[len(wh1)],[len(wh2)],[len(wh3)],[len(wh4)],[(len(wh5))],[len(wh6)],[len(wh7)],[len(wh8)],[len(wh9)],[len(wh10)]]"
   ]
  },
  {
   "cell_type": "code",
   "execution_count": 189,
   "metadata": {},
   "outputs": [],
   "source": [
    "df_wh = pd.DataFrame(wh_rows, columns=[\"num_wh\"])"
   ]
  },
  {
   "cell_type": "code",
   "execution_count": 192,
   "metadata": {},
   "outputs": [],
   "source": [
    "step = 0.2\n",
    "bin_range = np.arange(-1, 1+step, step)\n",
    "wh_rng,bins=pd.cut((new_whh-new_wha),bins=bin_range,include_lowest=True, right=False,retbins=True)  #making bins"
   ]
  },
  {
   "cell_type": "code",
   "execution_count": 212,
   "metadata": {},
   "outputs": [],
   "source": [
    "sorted_wh=wh_rng.value_counts(sort=True)                         #sorting bins\n",
    "sorted_wh = sorted_wh.reindex(natsorted(sorted_wh.index))"
   ]
  },
  {
   "cell_type": "code",
   "execution_count": 213,
   "metadata": {},
   "outputs": [
    {
     "name": "stdout",
     "output_type": "stream",
     "text": [
      "[-1.0, -0.8)          1\n",
      "[-0.8, -0.6)         20\n",
      "[-0.6, -0.4)         24\n",
      "[-0.4, -0.2)         37\n",
      "[-0.2, -2.22e-16)    48\n",
      "[-2.22e-16, 0.2)     84\n",
      "[0.2, 0.4)           58\n",
      "[0.4, 0.6)           53\n",
      "[0.6, 0.8)           44\n",
      "[0.8, 1.0)           11\n",
      "dtype: int64\n"
     ]
    }
   ],
   "source": [
    "print(sorted_wh)   "
   ]
  },
  {
   "cell_type": "code",
   "execution_count": 199,
   "metadata": {},
   "outputs": [],
   "source": [
    "df_sorted_wh = sorted_wh.to_frame(\"counts\")"
   ]
  },
  {
   "cell_type": "code",
   "execution_count": 201,
   "metadata": {},
   "outputs": [],
   "source": [
    "df_wh.reset_index(drop=True, inplace=True)\n",
    "df_sorted_wh.reset_index(drop=True, inplace=True)"
   ]
  },
  {
   "cell_type": "code",
   "execution_count": 227,
   "metadata": {},
   "outputs": [],
   "source": [
    "actl_prob_wh=df_wh[\"num_wh\"]/df_sorted_wh[\"counts\"]   #Number of games resulted \"Draw\" dividing by total number of games corresponding bin"
   ]
  },
  {
   "cell_type": "code",
   "execution_count": 228,
   "metadata": {},
   "outputs": [
    {
     "data": {
      "text/plain": [
       "0    0.000000\n",
       "1    0.100000\n",
       "2    0.083333\n",
       "3    0.135135\n",
       "4    0.187500\n",
       "5    0.285714\n",
       "6    0.241379\n",
       "7    0.207547\n",
       "8    0.090909\n",
       "9    0.000000\n",
       "dtype: float64"
      ]
     },
     "execution_count": 228,
     "metadata": {},
     "output_type": "execute_result"
    }
   ],
   "source": [
    "actl_prob_wh"
   ]
  },
  {
   "cell_type": "code",
   "execution_count": 224,
   "metadata": {},
   "outputs": [],
   "source": [
    "pointswh = [[-0.9],[-0.7],[-0.5],[-0.3],[-0.1],[0.1],[0.3],[0.5],[0.7],[0.9]]  #the middle of intervals was chosen as point."
   ]
  },
  {
   "cell_type": "code",
   "execution_count": 225,
   "metadata": {},
   "outputs": [],
   "source": [
    "wh_points = pd.DataFrame(pointswh, columns=[\"points_wh\"])"
   ]
  },
  {
   "cell_type": "code",
   "execution_count": 229,
   "metadata": {},
   "outputs": [
    {
     "data": {
      "image/png": "[encoded data removed]",
      "text/plain": [
       "<Figure size 432x288 with 1 Axes>"
      ]
     },
     "metadata": {
      "needs_background": "light"
     },
     "output_type": "display_data"
    }
   ],
   "source": [
    "a=sns.scatterplot(x=new_whh-new_wha,y=new_whd)\n",
    "b=sns.scatterplot(x=wh_points[\"points_wh\"],y=actl_prob_wh)\n",
    "a.set_xlabel(\"P(Home Win)-P(Away Win)\")\n",
    "a.set_ylabel(\"P(Draw)\")\n",
    "a.set_title(\"WH\");"
   ]
  },
  {
   "cell_type": "code",
   "execution_count": null,
   "metadata": {},
   "outputs": [],
   "source": []
  },
  {
   "cell_type": "code",
   "execution_count": 239,
   "metadata": {},
   "outputs": [],
   "source": [
    "df[\"ps_prob\"]=new_psh-new_psa"
   ]
  },
  {
   "cell_type": "code",
   "execution_count": 240,
   "metadata": {},
   "outputs": [
    {
     "data": {
      "text/plain": [
       "0      0.489448\n",
       "1      0.303796\n",
       "2      0.065209\n",
       "3     -0.451328\n",
       "4     -0.214949\n",
       "         ...   \n",
       "375    0.648039\n",
       "376    0.658818\n",
       "377    0.545368\n",
       "378    0.196429\n",
       "379    0.139420\n",
       "Name: ps_prob, Length: 380, dtype: float64"
      ]
     },
     "execution_count": 240,
     "metadata": {},
     "output_type": "execute_result"
    }
   ],
   "source": [
    "df[\"ps_prob\"]"
   ]
  },
  {
   "cell_type": "code",
   "execution_count": 241,
   "metadata": {},
   "outputs": [],
   "source": [
    "ps1=df[(df[\"FTR\"]==\"D\") & (df[\"ps_prob\"]>=-1)  & (df[\"ps_prob\"]<-0.8)].index\n",
    "\n",
    "ps2=df[(df[\"FTR\"]==\"D\") & (df[\"ps_prob\"]>=-0.8)  & (df[\"ps_prob\"]<-0.6)].index\n",
    "\n",
    "ps3=df[(df[\"FTR\"]==\"D\") & (df[\"ps_prob\"]>=-0.6)  & (df[\"ps_prob\"]<-0.4)].index\n",
    "\n",
    "ps4=df[(df[\"FTR\"]==\"D\") & (df[\"ps_prob\"]>=-0.4)  & (df[\"ps_prob\"]<-0.2)].index\n",
    "\n",
    "ps5=df[(df[\"FTR\"]==\"D\") & (df[\"ps_prob\"]>=-0.2)  & (df[\"ps_prob\"]<-2.22e-16)].index\n",
    "\n",
    "ps6=df[(df[\"FTR\"]==\"D\") & (df[\"ps_prob\"]>=-2.22e-16)  & (df[\"ps_prob\"]<0.2)].index\n",
    "\n",
    "ps7=df[(df[\"FTR\"]==\"D\") & (df[\"ps_prob\"]>=0.2)  & (df[\"ps_prob\"]<0.4)].index\n",
    "\n",
    "ps8=df[(df[\"FTR\"]==\"D\") & (df[\"ps_prob\"]>=0.4)  & (df[\"ps_prob\"]<0.6)].index\n",
    "\n",
    "ps9=df[(df[\"FTR\"]==\"D\") & (df[\"ps_prob\"]>=0.6)  & (df[\"ps_prob\"]<0.8)].index\n",
    "\n",
    "ps10=df[(df[\"FTR\"]==\"D\") & (df[\"ps_prob\"]>=0.8)  & (df[\"ps_prob\"]<1)].index\n"
   ]
  },
  {
   "cell_type": "code",
   "execution_count": 242,
   "metadata": {},
   "outputs": [],
   "source": [
    "ps_rows = [[len(ps1)],[len(ps2)],[len(ps3)],[len(ps4)],[(len(ps5))],[len(ps6)],[len(ps7)],[len(ps8)],[len(ps9)],[len(ps10)]]"
   ]
  },
  {
   "cell_type": "code",
   "execution_count": 243,
   "metadata": {},
   "outputs": [],
   "source": [
    "df_ps = pd.DataFrame(ps_rows, columns=[\"num_ps\"])"
   ]
  },
  {
   "cell_type": "code",
   "execution_count": 244,
   "metadata": {},
   "outputs": [],
   "source": [
    "step = 0.2\n",
    "bin_range = np.arange(-1, 1+step, step)\n",
    "ps_rng,bins=pd.cut((new_psh-new_psa),bins=bin_range,include_lowest=True, right=False,retbins=True)"
   ]
  },
  {
   "cell_type": "code",
   "execution_count": 245,
   "metadata": {},
   "outputs": [],
   "source": [
    "sorted_ps=ps_rng.value_counts(sort=True)\n",
    "sorted_ps = sorted_ps.reindex(natsorted(sorted_ps.index))"
   ]
  },
  {
   "cell_type": "code",
   "execution_count": 246,
   "metadata": {},
   "outputs": [
    {
     "name": "stdout",
     "output_type": "stream",
     "text": [
      "[-1.0, -0.8)          1\n",
      "[-0.8, -0.6)         21\n",
      "[-0.6, -0.4)         26\n",
      "[-0.4, -0.2)         34\n",
      "[-0.2, -2.22e-16)    51\n",
      "[-2.22e-16, 0.2)     74\n",
      "[0.2, 0.4)           61\n",
      "[0.4, 0.6)           54\n",
      "[0.6, 0.8)           46\n",
      "[0.8, 1.0)           12\n",
      "dtype: int64\n"
     ]
    }
   ],
   "source": [
    "print(sorted_ps)"
   ]
  },
  {
   "cell_type": "code",
   "execution_count": 247,
   "metadata": {},
   "outputs": [],
   "source": [
    "df_sorted_ps = sorted_ps.to_frame(\"counts\")"
   ]
  },
  {
   "cell_type": "code",
   "execution_count": 248,
   "metadata": {},
   "outputs": [],
   "source": [
    "df_ps.reset_index(drop=True, inplace=True)\n",
    "df_sorted_ps.reset_index(drop=True, inplace=True)"
   ]
  },
  {
   "cell_type": "code",
   "execution_count": 250,
   "metadata": {},
   "outputs": [],
   "source": [
    "actl_prob_ps=df_ps[\"num_ps\"]/df_sorted_ps[\"counts\"]"
   ]
  },
  {
   "cell_type": "code",
   "execution_count": 251,
   "metadata": {},
   "outputs": [
    {
     "data": {
      "text/plain": [
       "0    0.000000\n",
       "1    0.095238\n",
       "2    0.115385\n",
       "3    0.117647\n",
       "4    0.176471\n",
       "5    0.297297\n",
       "6    0.229508\n",
       "7    0.240741\n",
       "8    0.086957\n",
       "9    0.000000\n",
       "dtype: float64"
      ]
     },
     "execution_count": 251,
     "metadata": {},
     "output_type": "execute_result"
    }
   ],
   "source": [
    "actl_prob_ps"
   ]
  },
  {
   "cell_type": "code",
   "execution_count": 252,
   "metadata": {},
   "outputs": [],
   "source": [
    "pointsps = [[-0.9],[-0.7],[-0.5],[-0.3],[-0.1],[0.1],[0.3],[0.5],[0.7],[0.9]]"
   ]
  },
  {
   "cell_type": "code",
   "execution_count": 253,
   "metadata": {},
   "outputs": [],
   "source": [
    "ps_points = pd.DataFrame(pointsps, columns=[\"points_ps\"])"
   ]
  },
  {
   "cell_type": "code",
   "execution_count": 254,
   "metadata": {},
   "outputs": [
    {
     "data": {
      "image/png": "[encoded data removed]",
      "text/plain": [
       "<Figure size 432x288 with 1 Axes>"
      ]
     },
     "metadata": {
      "needs_background": "light"
     },
     "output_type": "display_data"
    }
   ],
   "source": [
    "c=sns.scatterplot(x=new_psh-new_psa,y=new_psd)\n",
    "d=sns.scatterplot(x=ps_points[\"points_ps\"],y=actl_prob_ps)\n",
    "c.set_xlabel(\"P(Home Win)-P(Away Win)\")\n",
    "c.set_ylabel(\"P(Draw)\")\n",
    "c.set_title(\"PS\");"
   ]
  },
  {
   "cell_type": "code",
   "execution_count": null,
   "metadata": {},
   "outputs": [],
   "source": []
  },
  {
   "cell_type": "code",
   "execution_count": 256,
   "metadata": {},
   "outputs": [],
   "source": [
    "df[\"iw_prob\"]=new_iwh-new_iwa"
   ]
  },
  {
   "cell_type": "code",
   "execution_count": 257,
   "metadata": {},
   "outputs": [
    {
     "data": {
      "text/plain": [
       "0      0.477850\n",
       "1      0.267454\n",
       "2      0.073378\n",
       "3     -0.458015\n",
       "4     -0.205885\n",
       "         ...   \n",
       "375    0.621011\n",
       "376    0.638170\n",
       "377    0.534819\n",
       "378    0.198995\n",
       "379    0.120750\n",
       "Name: iw_prob, Length: 380, dtype: float64"
      ]
     },
     "execution_count": 257,
     "metadata": {},
     "output_type": "execute_result"
    }
   ],
   "source": [
    "df[\"iw_prob\"]"
   ]
  },
  {
   "cell_type": "code",
   "execution_count": 258,
   "metadata": {},
   "outputs": [],
   "source": [
    "iw1=df[(df[\"FTR\"]==\"D\") & (df[\"iw_prob\"]>=-1)  & (df[\"iw_prob\"]<-0.8)].index\n",
    "\n",
    "iw2=df[(df[\"FTR\"]==\"D\") & (df[\"iw_prob\"]>=-0.8)  & (df[\"iw_prob\"]<-0.6)].index\n",
    "\n",
    "iw3=df[(df[\"FTR\"]==\"D\") & (df[\"iw_prob\"]>=-0.6)  & (df[\"iw_prob\"]<-0.4)].index\n",
    "\n",
    "iw4=df[(df[\"FTR\"]==\"D\") & (df[\"iw_prob\"]>=-0.4)  & (df[\"iw_prob\"]<-0.2)].index\n",
    "\n",
    "iw5=df[(df[\"FTR\"]==\"D\") & (df[\"iw_prob\"]>=-0.2)  & (df[\"iw_prob\"]<-2.22e-16)].index\n",
    "\n",
    "iw6=df[(df[\"FTR\"]==\"D\") & (df[\"iw_prob\"]>=-2.22e-16)  & (df[\"iw_prob\"]<0.2)].index\n",
    "\n",
    "iw7=df[(df[\"FTR\"]==\"D\") & (df[\"iw_prob\"]>=0.2)  & (df[\"iw_prob\"]<0.4)].index\n",
    "\n",
    "iw8=df[(df[\"FTR\"]==\"D\") & (df[\"iw_prob\"]>=0.4)  & (df[\"iw_prob\"]<0.6)].index\n",
    "\n",
    "iw9=df[(df[\"FTR\"]==\"D\") & (df[\"iw_prob\"]>=0.6)  & (df[\"iw_prob\"]<0.8)].index\n",
    "\n",
    "iw10=df[(df[\"FTR\"]==\"D\") & (df[\"iw_prob\"]>=0.8)  & (df[\"iw_prob\"]<1)].index\n"
   ]
  },
  {
   "cell_type": "code",
   "execution_count": 265,
   "metadata": {},
   "outputs": [],
   "source": [
    "iw_rows = [[len(iw1)],[len(iw2)],[len(iw3)],[len(iw4)],[(len(iw5))],[len(iw6)],[len(iw7)],[len(iw8)],[len(iw9)],[len(iw10)]]"
   ]
  },
  {
   "cell_type": "code",
   "execution_count": 266,
   "metadata": {},
   "outputs": [],
   "source": [
    "df_iw = pd.DataFrame(iw_rows, columns=[\"num_iw\"])"
   ]
  },
  {
   "cell_type": "code",
   "execution_count": 267,
   "metadata": {},
   "outputs": [],
   "source": [
    "step = 0.2\n",
    "bin_range = np.arange(-1, 1+step, step)\n",
    "iw_rng,bins=pd.cut((new_iwh-new_iwa),bins=bin_range,include_lowest=True, right=False,retbins=True)"
   ]
  },
  {
   "cell_type": "code",
   "execution_count": 268,
   "metadata": {},
   "outputs": [],
   "source": [
    "sorted_iw=iw_rng.value_counts(sort=True)\n",
    "sorted_iw = sorted_iw.reindex(natsorted(sorted_iw.index))"
   ]
  },
  {
   "cell_type": "code",
   "execution_count": 269,
   "metadata": {},
   "outputs": [
    {
     "name": "stdout",
     "output_type": "stream",
     "text": [
      "[-1.0, -0.8)          0\n",
      "[-0.8, -0.6)         17\n",
      "[-0.6, -0.4)         25\n",
      "[-0.4, -0.2)         38\n",
      "[-0.2, -2.22e-16)    50\n",
      "[-2.22e-16, 0.2)     83\n",
      "[0.2, 0.4)           68\n",
      "[0.4, 0.6)           48\n",
      "[0.6, 0.8)           46\n",
      "[0.8, 1.0)            5\n",
      "dtype: int64\n"
     ]
    }
   ],
   "source": [
    "print(sorted_iw)"
   ]
  },
  {
   "cell_type": "code",
   "execution_count": 270,
   "metadata": {},
   "outputs": [],
   "source": [
    "df_sorted_iw = sorted_iw.to_frame(\"counts\")"
   ]
  },
  {
   "cell_type": "code",
   "execution_count": 271,
   "metadata": {},
   "outputs": [],
   "source": [
    "df_iw.reset_index(drop=True, inplace=True)\n",
    "df_sorted_iw.reset_index(drop=True, inplace=True)"
   ]
  },
  {
   "cell_type": "code",
   "execution_count": 272,
   "metadata": {},
   "outputs": [],
   "source": [
    "actl_prob_iw=df_iw[\"num_iw\"]/df_sorted_iw[\"counts\"]"
   ]
  },
  {
   "cell_type": "code",
   "execution_count": 273,
   "metadata": {},
   "outputs": [
    {
     "data": {
      "text/plain": [
       "0         NaN\n",
       "1    0.117647\n",
       "2    0.120000\n",
       "3    0.078947\n",
       "4    0.220000\n",
       "5    0.240964\n",
       "6    0.279412\n",
       "7    0.187500\n",
       "8    0.086957\n",
       "9    0.000000\n",
       "dtype: float64"
      ]
     },
     "execution_count": 273,
     "metadata": {},
     "output_type": "execute_result"
    }
   ],
   "source": [
    "actl_prob_iw"
   ]
  },
  {
   "cell_type": "code",
   "execution_count": 274,
   "metadata": {},
   "outputs": [],
   "source": [
    "pointsiw = [[-0.9],[-0.7],[-0.5],[-0.3],[-0.1],[0.1],[0.3],[0.5],[0.7],[0.9]]"
   ]
  },
  {
   "cell_type": "code",
   "execution_count": 275,
   "metadata": {},
   "outputs": [],
   "source": [
    "iw_points = pd.DataFrame(pointsiw, columns=[\"points_iw\"])"
   ]
  },
  {
   "cell_type": "code",
   "execution_count": 276,
   "metadata": {},
   "outputs": [
    {
     "data": {
      "image/png": "[encoded data removed]",
      "text/plain": [
       "<Figure size 432x288 with 1 Axes>"
      ]
     },
     "metadata": {
      "needs_background": "light"
     },
     "output_type": "display_data"
    }
   ],
   "source": [
    "e=sns.scatterplot(x=new_iwh-new_iwa,y=new_iwd)\n",
    "f=sns.scatterplot(x=iw_points[\"points_iw\"],y=actl_prob_iw)\n",
    "e.set_xlabel(\"P(Home Win)-P(Away Win)\")\n",
    "e.set_ylabel(\"P(Draw)\")\n",
    "e.set_title(\"IW\");"
   ]
  },
  {
   "cell_type": "code",
   "execution_count": null,
   "metadata": {},
   "outputs": [],
   "source": []
  },
  {
   "cell_type": "code",
   "execution_count": 277,
   "metadata": {},
   "outputs": [],
   "source": [
    "df[\"bw_prob\"]=new_bwh-new_bwa"
   ]
  },
  {
   "cell_type": "code",
   "execution_count": 278,
   "metadata": {},
   "outputs": [
    {
     "data": {
      "text/plain": [
       "0      0.501733\n",
       "1      0.285426\n",
       "2      0.065875\n",
       "3     -0.452785\n",
       "4     -0.225806\n",
       "         ...   \n",
       "375    0.633311\n",
       "376    0.674740\n",
       "377    0.537953\n",
       "378    0.181818\n",
       "379    0.125993\n",
       "Name: bw_prob, Length: 380, dtype: float64"
      ]
     },
     "execution_count": 278,
     "metadata": {},
     "output_type": "execute_result"
    }
   ],
   "source": [
    "df[\"bw_prob\"]"
   ]
  },
  {
   "cell_type": "code",
   "execution_count": 279,
   "metadata": {},
   "outputs": [],
   "source": [
    "bw1=df[(df[\"FTR\"]==\"D\") & (df[\"bw_prob\"]>=-1)  & (df[\"bw_prob\"]<-0.8)].index\n",
    "\n",
    "bw2=df[(df[\"FTR\"]==\"D\") & (df[\"bw_prob\"]>=-0.8)  & (df[\"bw_prob\"]<-0.6)].index\n",
    "\n",
    "bw3=df[(df[\"FTR\"]==\"D\") & (df[\"bw_prob\"]>=-0.6)  & (df[\"bw_prob\"]<-0.4)].index\n",
    "\n",
    "bw4=df[(df[\"FTR\"]==\"D\") & (df[\"bw_prob\"]>=-0.4)  & (df[\"bw_prob\"]<-0.2)].index\n",
    "\n",
    "bw5=df[(df[\"FTR\"]==\"D\") & (df[\"bw_prob\"]>=-0.2)  & (df[\"bw_prob\"]<-2.22e-16)].index\n",
    "\n",
    "bw6=df[(df[\"FTR\"]==\"D\") & (df[\"bw_prob\"]>=-2.22e-16)  & (df[\"bw_prob\"]<0.2)].index\n",
    "\n",
    "bw7=df[(df[\"FTR\"]==\"D\") & (df[\"bw_prob\"]>=0.2)  & (df[\"bw_prob\"]<0.4)].index\n",
    "\n",
    "bw8=df[(df[\"FTR\"]==\"D\") & (df[\"bw_prob\"]>=0.4)  & (df[\"bw_prob\"]<0.6)].index\n",
    "\n",
    "bw9=df[(df[\"FTR\"]==\"D\") & (df[\"bw_prob\"]>=0.6)  & (df[\"bw_prob\"]<0.8)].index\n",
    "\n",
    "bw10=df[(df[\"FTR\"]==\"D\") & (df[\"bw_prob\"]>=0.8)  & (df[\"bw_prob\"]<1)].index\n"
   ]
  },
  {
   "cell_type": "code",
   "execution_count": 280,
   "metadata": {},
   "outputs": [],
   "source": [
    "bw_rows = [[len(bw1)],[len(bw2)],[len(bw3)],[len(bw4)],[(len(bw5))],[len(bw6)],[len(bw7)],[len(bw8)],[len(bw9)],[len(bw10)]]"
   ]
  },
  {
   "cell_type": "code",
   "execution_count": 281,
   "metadata": {},
   "outputs": [],
   "source": [
    "df_bw = pd.DataFrame(bw_rows, columns=[\"num_bw\"])"
   ]
  },
  {
   "cell_type": "code",
   "execution_count": 282,
   "metadata": {},
   "outputs": [],
   "source": [
    "step = 0.2\n",
    "bin_range = np.arange(-1, 1+step, step)\n",
    "bw_rng,bins=pd.cut((new_bwh-new_bwa),bins=bin_range,include_lowest=True, right=False,retbins=True)"
   ]
  },
  {
   "cell_type": "code",
   "execution_count": 283,
   "metadata": {},
   "outputs": [],
   "source": [
    "sorted_bw=bw_rng.value_counts(sort=True)\n",
    "sorted_bw = sorted_bw.reindex(natsorted(sorted_bw.index))"
   ]
  },
  {
   "cell_type": "code",
   "execution_count": 284,
   "metadata": {},
   "outputs": [
    {
     "name": "stdout",
     "output_type": "stream",
     "text": [
      "[-1.0, -0.8)          0\n",
      "[-0.8, -0.6)         21\n",
      "[-0.6, -0.4)         26\n",
      "[-0.4, -0.2)         37\n",
      "[-0.2, -2.22e-16)    47\n",
      "[-2.22e-16, 0.2)     81\n",
      "[0.2, 0.4)           61\n",
      "[0.4, 0.6)           50\n",
      "[0.6, 0.8)           48\n",
      "[0.8, 1.0)            9\n",
      "dtype: int64\n"
     ]
    }
   ],
   "source": [
    "print(sorted_bw)"
   ]
  },
  {
   "cell_type": "code",
   "execution_count": 286,
   "metadata": {},
   "outputs": [],
   "source": [
    "df_sorted_bw = sorted_bw.to_frame(\"counts\")"
   ]
  },
  {
   "cell_type": "code",
   "execution_count": 287,
   "metadata": {},
   "outputs": [],
   "source": [
    "df_bw.reset_index(drop=True, inplace=True)\n",
    "df_sorted_bw.reset_index(drop=True, inplace=True)"
   ]
  },
  {
   "cell_type": "code",
   "execution_count": 289,
   "metadata": {},
   "outputs": [],
   "source": [
    "actl_prob_bw=df_bw[\"num_bw\"]/df_sorted_bw[\"counts\"]"
   ]
  },
  {
   "cell_type": "code",
   "execution_count": 290,
   "metadata": {},
   "outputs": [
    {
     "data": {
      "text/plain": [
       "0         NaN\n",
       "1    0.095238\n",
       "2    0.115385\n",
       "3    0.108108\n",
       "4    0.191489\n",
       "5    0.271605\n",
       "6    0.262295\n",
       "7    0.220000\n",
       "8    0.083333\n",
       "9    0.000000\n",
       "dtype: float64"
      ]
     },
     "execution_count": 290,
     "metadata": {},
     "output_type": "execute_result"
    }
   ],
   "source": [
    "actl_prob_bw"
   ]
  },
  {
   "cell_type": "code",
   "execution_count": 291,
   "metadata": {},
   "outputs": [],
   "source": [
    "pointsbw = [[-0.9],[-0.7],[-0.5],[-0.3],[-0.1],[0.1],[0.3],[0.5],[0.7],[0.9]]"
   ]
  },
  {
   "cell_type": "code",
   "execution_count": 292,
   "metadata": {},
   "outputs": [],
   "source": [
    "bw_points = pd.DataFrame(pointsbw, columns=[\"points_bw\"])"
   ]
  },
  {
   "cell_type": "code",
   "execution_count": 293,
   "metadata": {},
   "outputs": [
    {
     "data": {
      "image/png": "[encoded data removed]",
      "text/plain": [
       "<Figure size 432x288 with 1 Axes>"
      ]
     },
     "metadata": {
      "needs_background": "light"
     },
     "output_type": "display_data"
    }
   ],
   "source": [
    "g=sns.scatterplot(x=new_bwh-new_bwa,y=new_bwd)\n",
    "h=sns.scatterplot(x=bw_points[\"points_bw\"],y=actl_prob_bw)\n",
    "g.set_xlabel(\"P(Home Win)-P(Away Win)\")\n",
    "g.set_ylabel(\"P(Draw)\")\n",
    "g.set_title(\"BW\");"
   ]
  },
  {
   "cell_type": "code",
   "execution_count": null,
   "metadata": {},
   "outputs": [],
   "source": [
    "# The blue points are boomakers prediction while orange points are the actual probabilities. \n",
    "#We can conclude that in the long run where orange point is above the blue one,it is likely to make some money for \"Draw\" in corresponding bin."
   ]
  },
  {
   "cell_type": "code",
   "execution_count": null,
   "metadata": {},
   "outputs": [],
   "source": [
    "#Task 3"
   ]
  },
  {
   "cell_type": "code",
   "execution_count": 294,
   "metadata": {},
   "outputs": [
    {
     "data": {
      "text/plain": [
       "0    362\n",
       "1     18\n",
       "Name: HR, dtype: int64"
      ]
     },
     "execution_count": 294,
     "metadata": {},
     "output_type": "execute_result"
    }
   ],
   "source": [
    "df[\"HR\"].value_counts()"
   ]
  },
  {
   "cell_type": "code",
   "execution_count": 295,
   "metadata": {},
   "outputs": [
    {
     "data": {
      "text/plain": [
       "0    352\n",
       "1     27\n",
       "2      1\n",
       "Name: AR, dtype: int64"
      ]
     },
     "execution_count": 295,
     "metadata": {},
     "output_type": "execute_result"
    }
   ],
   "source": [
    "df[\"AR\"].value_counts()"
   ]
  },
  {
   "cell_type": "code",
   "execution_count": 296,
   "metadata": {},
   "outputs": [
    {
     "data": {
      "text/html": [
       "<div>\n",
       "<style scoped>\n",
       "    .dataframe tbody tr th:only-of-type {\n",
       "        vertical-align: middle;\n",
       "    }\n",
       "\n",
       "    .dataframe tbody tr th {\n",
       "        vertical-align: top;\n",
       "    }\n",
       "\n",
       "    .dataframe thead th {\n",
       "        text-align: right;\n",
       "    }\n",
       "</style>\n",
       "<table border=\"1\" class=\"dataframe\">\n",
       "  <thead>\n",
       "    <tr style=\"text-align: right;\">\n",
       "      <th></th>\n",
       "      <th>Div</th>\n",
       "      <th>Date</th>\n",
       "      <th>HomeTeam</th>\n",
       "      <th>AwayTeam</th>\n",
       "      <th>FTHG</th>\n",
       "      <th>FTAG</th>\n",
       "      <th>FTR</th>\n",
       "      <th>HTHG</th>\n",
       "      <th>HTAG</th>\n",
       "      <th>HTR</th>\n",
       "      <th>...</th>\n",
       "      <th>BbAvAHH</th>\n",
       "      <th>BbMxAHA</th>\n",
       "      <th>BbAvAHA</th>\n",
       "      <th>PSCH</th>\n",
       "      <th>PSCD</th>\n",
       "      <th>PSCA</th>\n",
       "      <th>wh_prob</th>\n",
       "      <th>ps_prob</th>\n",
       "      <th>iw_prob</th>\n",
       "      <th>bw_prob</th>\n",
       "    </tr>\n",
       "  </thead>\n",
       "  <tbody>\n",
       "    <tr>\n",
       "      <th>0</th>\n",
       "      <td>E0</td>\n",
       "      <td>10/08/2018</td>\n",
       "      <td>Man United</td>\n",
       "      <td>Leicester</td>\n",
       "      <td>2</td>\n",
       "      <td>1</td>\n",
       "      <td>H</td>\n",
       "      <td>1</td>\n",
       "      <td>0</td>\n",
       "      <td>H</td>\n",
       "      <td>...</td>\n",
       "      <td>1.70</td>\n",
       "      <td>2.29</td>\n",
       "      <td>2.21</td>\n",
       "      <td>1.55</td>\n",
       "      <td>4.07</td>\n",
       "      <td>7.69</td>\n",
       "      <td>0.440842</td>\n",
       "      <td>0.489448</td>\n",
       "      <td>0.477850</td>\n",
       "      <td>0.501733</td>\n",
       "    </tr>\n",
       "    <tr>\n",
       "      <th>1</th>\n",
       "      <td>E0</td>\n",
       "      <td>11/08/2018</td>\n",
       "      <td>Bournemouth</td>\n",
       "      <td>Cardiff</td>\n",
       "      <td>2</td>\n",
       "      <td>0</td>\n",
       "      <td>H</td>\n",
       "      <td>1</td>\n",
       "      <td>0</td>\n",
       "      <td>H</td>\n",
       "      <td>...</td>\n",
       "      <td>2.13</td>\n",
       "      <td>1.80</td>\n",
       "      <td>1.75</td>\n",
       "      <td>1.88</td>\n",
       "      <td>3.61</td>\n",
       "      <td>4.70</td>\n",
       "      <td>0.258252</td>\n",
       "      <td>0.303796</td>\n",
       "      <td>0.267454</td>\n",
       "      <td>0.285426</td>\n",
       "    </tr>\n",
       "    <tr>\n",
       "      <th>2</th>\n",
       "      <td>E0</td>\n",
       "      <td>11/08/2018</td>\n",
       "      <td>Fulham</td>\n",
       "      <td>Crystal Palace</td>\n",
       "      <td>0</td>\n",
       "      <td>2</td>\n",
       "      <td>A</td>\n",
       "      <td>0</td>\n",
       "      <td>1</td>\n",
       "      <td>A</td>\n",
       "      <td>...</td>\n",
       "      <td>2.11</td>\n",
       "      <td>1.81</td>\n",
       "      <td>1.77</td>\n",
       "      <td>2.62</td>\n",
       "      <td>3.38</td>\n",
       "      <td>2.90</td>\n",
       "      <td>0.047757</td>\n",
       "      <td>0.065209</td>\n",
       "      <td>0.073378</td>\n",
       "      <td>0.065875</td>\n",
       "    </tr>\n",
       "    <tr>\n",
       "      <th>3</th>\n",
       "      <td>E0</td>\n",
       "      <td>11/08/2018</td>\n",
       "      <td>Huddersfield</td>\n",
       "      <td>Chelsea</td>\n",
       "      <td>0</td>\n",
       "      <td>3</td>\n",
       "      <td>A</td>\n",
       "      <td>0</td>\n",
       "      <td>2</td>\n",
       "      <td>A</td>\n",
       "      <td>...</td>\n",
       "      <td>1.80</td>\n",
       "      <td>2.13</td>\n",
       "      <td>2.06</td>\n",
       "      <td>7.24</td>\n",
       "      <td>3.95</td>\n",
       "      <td>1.58</td>\n",
       "      <td>-0.435864</td>\n",
       "      <td>-0.451328</td>\n",
       "      <td>-0.458015</td>\n",
       "      <td>-0.452785</td>\n",
       "    </tr>\n",
       "    <tr>\n",
       "      <th>4</th>\n",
       "      <td>E0</td>\n",
       "      <td>11/08/2018</td>\n",
       "      <td>Newcastle</td>\n",
       "      <td>Tottenham</td>\n",
       "      <td>1</td>\n",
       "      <td>2</td>\n",
       "      <td>A</td>\n",
       "      <td>1</td>\n",
       "      <td>2</td>\n",
       "      <td>A</td>\n",
       "      <td>...</td>\n",
       "      <td>2.12</td>\n",
       "      <td>1.80</td>\n",
       "      <td>1.76</td>\n",
       "      <td>4.74</td>\n",
       "      <td>3.53</td>\n",
       "      <td>1.89</td>\n",
       "      <td>-0.211241</td>\n",
       "      <td>-0.214949</td>\n",
       "      <td>-0.205885</td>\n",
       "      <td>-0.225806</td>\n",
       "    </tr>\n",
       "    <tr>\n",
       "      <th>...</th>\n",
       "      <td>...</td>\n",
       "      <td>...</td>\n",
       "      <td>...</td>\n",
       "      <td>...</td>\n",
       "      <td>...</td>\n",
       "      <td>...</td>\n",
       "      <td>...</td>\n",
       "      <td>...</td>\n",
       "      <td>...</td>\n",
       "      <td>...</td>\n",
       "      <td>...</td>\n",
       "      <td>...</td>\n",
       "      <td>...</td>\n",
       "      <td>...</td>\n",
       "      <td>...</td>\n",
       "      <td>...</td>\n",
       "      <td>...</td>\n",
       "      <td>...</td>\n",
       "      <td>...</td>\n",
       "      <td>...</td>\n",
       "      <td>...</td>\n",
       "    </tr>\n",
       "    <tr>\n",
       "      <th>374</th>\n",
       "      <td>E0</td>\n",
       "      <td>12/05/2019</td>\n",
       "      <td>Leicester</td>\n",
       "      <td>Chelsea</td>\n",
       "      <td>0</td>\n",
       "      <td>0</td>\n",
       "      <td>D</td>\n",
       "      <td>0</td>\n",
       "      <td>0</td>\n",
       "      <td>D</td>\n",
       "      <td>...</td>\n",
       "      <td>2.38</td>\n",
       "      <td>1.65</td>\n",
       "      <td>1.62</td>\n",
       "      <td>2.42</td>\n",
       "      <td>3.63</td>\n",
       "      <td>2.98</td>\n",
       "      <td>0.069793</td>\n",
       "      <td>0.066861</td>\n",
       "      <td>0.076419</td>\n",
       "      <td>0.070817</td>\n",
       "    </tr>\n",
       "    <tr>\n",
       "      <th>375</th>\n",
       "      <td>E0</td>\n",
       "      <td>12/05/2019</td>\n",
       "      <td>Liverpool</td>\n",
       "      <td>Wolves</td>\n",
       "      <td>2</td>\n",
       "      <td>0</td>\n",
       "      <td>H</td>\n",
       "      <td>1</td>\n",
       "      <td>0</td>\n",
       "      <td>H</td>\n",
       "      <td>...</td>\n",
       "      <td>1.91</td>\n",
       "      <td>2.01</td>\n",
       "      <td>1.95</td>\n",
       "      <td>1.32</td>\n",
       "      <td>5.89</td>\n",
       "      <td>9.48</td>\n",
       "      <td>0.652993</td>\n",
       "      <td>0.648039</td>\n",
       "      <td>0.621011</td>\n",
       "      <td>0.633311</td>\n",
       "    </tr>\n",
       "    <tr>\n",
       "      <th>376</th>\n",
       "      <td>E0</td>\n",
       "      <td>12/05/2019</td>\n",
       "      <td>Man United</td>\n",
       "      <td>Cardiff</td>\n",
       "      <td>0</td>\n",
       "      <td>2</td>\n",
       "      <td>A</td>\n",
       "      <td>0</td>\n",
       "      <td>1</td>\n",
       "      <td>A</td>\n",
       "      <td>...</td>\n",
       "      <td>2.32</td>\n",
       "      <td>1.72</td>\n",
       "      <td>1.64</td>\n",
       "      <td>1.30</td>\n",
       "      <td>6.06</td>\n",
       "      <td>9.71</td>\n",
       "      <td>0.664234</td>\n",
       "      <td>0.658818</td>\n",
       "      <td>0.638170</td>\n",
       "      <td>0.674740</td>\n",
       "    </tr>\n",
       "    <tr>\n",
       "      <th>377</th>\n",
       "      <td>E0</td>\n",
       "      <td>12/05/2019</td>\n",
       "      <td>Southampton</td>\n",
       "      <td>Huddersfield</td>\n",
       "      <td>1</td>\n",
       "      <td>1</td>\n",
       "      <td>D</td>\n",
       "      <td>1</td>\n",
       "      <td>0</td>\n",
       "      <td>H</td>\n",
       "      <td>...</td>\n",
       "      <td>2.16</td>\n",
       "      <td>1.80</td>\n",
       "      <td>1.73</td>\n",
       "      <td>1.37</td>\n",
       "      <td>5.36</td>\n",
       "      <td>8.49</td>\n",
       "      <td>0.561325</td>\n",
       "      <td>0.545368</td>\n",
       "      <td>0.534819</td>\n",
       "      <td>0.537953</td>\n",
       "    </tr>\n",
       "    <tr>\n",
       "      <th>378</th>\n",
       "      <td>E0</td>\n",
       "      <td>12/05/2019</td>\n",
       "      <td>Tottenham</td>\n",
       "      <td>Everton</td>\n",
       "      <td>2</td>\n",
       "      <td>2</td>\n",
       "      <td>D</td>\n",
       "      <td>1</td>\n",
       "      <td>0</td>\n",
       "      <td>H</td>\n",
       "      <td>...</td>\n",
       "      <td>2.08</td>\n",
       "      <td>1.85</td>\n",
       "      <td>1.80</td>\n",
       "      <td>1.91</td>\n",
       "      <td>3.81</td>\n",
       "      <td>4.15</td>\n",
       "      <td>0.181818</td>\n",
       "      <td>0.196429</td>\n",
       "      <td>0.198995</td>\n",
       "      <td>0.181818</td>\n",
       "    </tr>\n",
       "  </tbody>\n",
       "</table>\n",
       "<p>336 rows × 66 columns</p>\n",
       "</div>"
      ],
      "text/plain": [
       "    Div        Date      HomeTeam        AwayTeam  FTHG  FTAG FTR  HTHG  HTAG  \\\n",
       "0    E0  10/08/2018    Man United       Leicester     2     1   H     1     0   \n",
       "1    E0  11/08/2018   Bournemouth         Cardiff     2     0   H     1     0   \n",
       "2    E0  11/08/2018        Fulham  Crystal Palace     0     2   A     0     1   \n",
       "3    E0  11/08/2018  Huddersfield         Chelsea     0     3   A     0     2   \n",
       "4    E0  11/08/2018     Newcastle       Tottenham     1     2   A     1     2   \n",
       "..   ..         ...           ...             ...   ...   ...  ..   ...   ...   \n",
       "374  E0  12/05/2019     Leicester         Chelsea     0     0   D     0     0   \n",
       "375  E0  12/05/2019     Liverpool          Wolves     2     0   H     1     0   \n",
       "376  E0  12/05/2019    Man United         Cardiff     0     2   A     0     1   \n",
       "377  E0  12/05/2019   Southampton    Huddersfield     1     1   D     1     0   \n",
       "378  E0  12/05/2019     Tottenham         Everton     2     2   D     1     0   \n",
       "\n",
       "    HTR  ... BbAvAHH  BbMxAHA  BbAvAHA  PSCH  PSCD  PSCA   wh_prob   ps_prob  \\\n",
       "0     H  ...    1.70     2.29     2.21  1.55  4.07  7.69  0.440842  0.489448   \n",
       "1     H  ...    2.13     1.80     1.75  1.88  3.61  4.70  0.258252  0.303796   \n",
       "2     A  ...    2.11     1.81     1.77  2.62  3.38  2.90  0.047757  0.065209   \n",
       "3     A  ...    1.80     2.13     2.06  7.24  3.95  1.58 -0.435864 -0.451328   \n",
       "4     A  ...    2.12     1.80     1.76  4.74  3.53  1.89 -0.211241 -0.214949   \n",
       "..   ..  ...     ...      ...      ...   ...   ...   ...       ...       ...   \n",
       "374   D  ...    2.38     1.65     1.62  2.42  3.63  2.98  0.069793  0.066861   \n",
       "375   H  ...    1.91     2.01     1.95  1.32  5.89  9.48  0.652993  0.648039   \n",
       "376   A  ...    2.32     1.72     1.64  1.30  6.06  9.71  0.664234  0.658818   \n",
       "377   H  ...    2.16     1.80     1.73  1.37  5.36  8.49  0.561325  0.545368   \n",
       "378   H  ...    2.08     1.85     1.80  1.91  3.81  4.15  0.181818  0.196429   \n",
       "\n",
       "      iw_prob   bw_prob  \n",
       "0    0.477850  0.501733  \n",
       "1    0.267454  0.285426  \n",
       "2    0.073378  0.065875  \n",
       "3   -0.458015 -0.452785  \n",
       "4   -0.205885 -0.225806  \n",
       "..        ...       ...  \n",
       "374  0.076419  0.070817  \n",
       "375  0.621011  0.633311  \n",
       "376  0.638170  0.674740  \n",
       "377  0.534819  0.537953  \n",
       "378  0.198995  0.181818  \n",
       "\n",
       "[336 rows x 66 columns]"
      ]
     },
     "execution_count": 296,
     "metadata": {},
     "output_type": "execute_result"
    }
   ],
   "source": [
    "df[(df[\"HR\"]<1) & (df[\"AR\"]<1)]"
   ]
  },
  {
   "cell_type": "code",
   "execution_count": 297,
   "metadata": {},
   "outputs": [],
   "source": [
    "removed_df=df[(df[\"HR\"]<1) & (df[\"AR\"]<1)]"
   ]
  },
  {
   "cell_type": "code",
   "execution_count": 298,
   "metadata": {},
   "outputs": [
    {
     "data": {
      "text/plain": [
       "(336, 66)"
      ]
     },
     "execution_count": 298,
     "metadata": {},
     "output_type": "execute_result"
    }
   ],
   "source": [
    "removed_df.shape  #First we have 380 matches and now we have 336 matches with no red card."
   ]
  },
  {
   "cell_type": "code",
   "execution_count": 299,
   "metadata": {},
   "outputs": [],
   "source": [
    "#removed_BW"
   ]
  },
  {
   "cell_type": "code",
   "execution_count": 300,
   "metadata": {},
   "outputs": [],
   "source": [
    "rem_bwh=1/removed_df[\"BWH\"]"
   ]
  },
  {
   "cell_type": "code",
   "execution_count": 301,
   "metadata": {},
   "outputs": [
    {
     "data": {
      "text/plain": [
       "0    0.653595\n",
       "1    0.526316\n",
       "2    0.408163\n",
       "3    0.160000\n",
       "4    0.263158\n",
       "Name: BWH, dtype: float64"
      ]
     },
     "execution_count": 301,
     "metadata": {},
     "output_type": "execute_result"
    }
   ],
   "source": [
    "rem_bwh.head()"
   ]
  },
  {
   "cell_type": "code",
   "execution_count": 302,
   "metadata": {},
   "outputs": [],
   "source": [
    "rem_bwd=1/removed_df[\"BWD\"]"
   ]
  },
  {
   "cell_type": "code",
   "execution_count": 303,
   "metadata": {},
   "outputs": [
    {
     "data": {
      "text/plain": [
       "0    0.250000\n",
       "1    0.294118\n",
       "2    0.303030\n",
       "3    0.256410\n",
       "4    0.285714\n",
       "Name: BWD, dtype: float64"
      ]
     },
     "execution_count": 303,
     "metadata": {},
     "output_type": "execute_result"
    }
   ],
   "source": [
    "rem_bwd.head()"
   ]
  },
  {
   "cell_type": "code",
   "execution_count": 304,
   "metadata": {},
   "outputs": [
    {
     "data": {
      "text/plain": [
       "0    0.133333\n",
       "1    0.227273\n",
       "2    0.338983\n",
       "3    0.636943\n",
       "4    0.500000\n",
       "Name: BWA, dtype: float64"
      ]
     },
     "execution_count": 304,
     "metadata": {},
     "output_type": "execute_result"
    }
   ],
   "source": [
    "rem_bwa=1/removed_df[\"BWA\"]\n",
    "rem_bwa.head()"
   ]
  },
  {
   "cell_type": "code",
   "execution_count": 305,
   "metadata": {},
   "outputs": [],
   "source": [
    "#Calculating rem_BW values using Normalization"
   ]
  },
  {
   "cell_type": "code",
   "execution_count": 306,
   "metadata": {},
   "outputs": [],
   "source": [
    "rem_tbw=rem_bwh+rem_bwa+rem_bwd"
   ]
  },
  {
   "cell_type": "code",
   "execution_count": 307,
   "metadata": {},
   "outputs": [],
   "source": [
    "rem_tbw_=1/rem_tbw"
   ]
  },
  {
   "cell_type": "code",
   "execution_count": 308,
   "metadata": {},
   "outputs": [],
   "source": [
    "rem_new_bwh=rem_tbw_*rem_bwh"
   ]
  },
  {
   "cell_type": "code",
   "execution_count": 309,
   "metadata": {},
   "outputs": [],
   "source": [
    "rem_new_bwd=rem_tbw_*rem_bwd"
   ]
  },
  {
   "cell_type": "code",
   "execution_count": 310,
   "metadata": {},
   "outputs": [],
   "source": [
    "rem_new_bwa=rem_tbw_*rem_bwa"
   ]
  },
  {
   "cell_type": "code",
   "execution_count": 311,
   "metadata": {},
   "outputs": [],
   "source": [
    "#removed_IW"
   ]
  },
  {
   "cell_type": "code",
   "execution_count": 312,
   "metadata": {},
   "outputs": [
    {
     "data": {
      "text/plain": [
       "0    0.645161\n",
       "1    0.526316\n",
       "2    0.416667\n",
       "3    0.161290\n",
       "4    0.270270\n",
       "Name: IWH, dtype: float64"
      ]
     },
     "execution_count": 312,
     "metadata": {},
     "output_type": "execute_result"
    }
   ],
   "source": [
    "rem_iwh=1/removed_df[\"IWH\"]\n",
    "rem_iwh.head()"
   ]
  },
  {
   "cell_type": "code",
   "execution_count": 313,
   "metadata": {},
   "outputs": [
    {
     "data": {
      "text/plain": [
       "0    0.263158\n",
       "1    0.285714\n",
       "2    0.303030\n",
       "3    0.250000\n",
       "4    0.298507\n",
       "Name: IWD, dtype: float64"
      ]
     },
     "execution_count": 313,
     "metadata": {},
     "output_type": "execute_result"
    }
   ],
   "source": [
    "rem_iwd=1/removed_df[\"IWD\"]\n",
    "rem_iwd.head()"
   ]
  },
  {
   "cell_type": "code",
   "execution_count": 314,
   "metadata": {},
   "outputs": [
    {
     "data": {
      "text/plain": [
       "0    0.142857\n",
       "1    0.243902\n",
       "2    0.338983\n",
       "3    0.645161\n",
       "4    0.487805\n",
       "Name: IWA, dtype: float64"
      ]
     },
     "execution_count": 314,
     "metadata": {},
     "output_type": "execute_result"
    }
   ],
   "source": [
    "rem_iwa=1/removed_df[\"IWA\"]\n",
    "rem_iwa.head()"
   ]
  },
  {
   "cell_type": "code",
   "execution_count": 315,
   "metadata": {},
   "outputs": [],
   "source": [
    "#Calculating rem_IW values using Normalization"
   ]
  },
  {
   "cell_type": "code",
   "execution_count": 316,
   "metadata": {},
   "outputs": [],
   "source": [
    "rem_tiw=rem_iwh+rem_iwd+rem_iwa"
   ]
  },
  {
   "cell_type": "code",
   "execution_count": 317,
   "metadata": {},
   "outputs": [],
   "source": [
    "rem_tiw_=1/rem_tiw"
   ]
  },
  {
   "cell_type": "code",
   "execution_count": 318,
   "metadata": {},
   "outputs": [],
   "source": [
    "rem_new_iwh=rem_tiw_*rem_iwh"
   ]
  },
  {
   "cell_type": "code",
   "execution_count": 319,
   "metadata": {},
   "outputs": [],
   "source": [
    "rem_new_iwd=rem_tiw_*rem_iwd"
   ]
  },
  {
   "cell_type": "code",
   "execution_count": 320,
   "metadata": {},
   "outputs": [],
   "source": [
    "rem_new_iwa=rem_tiw_*rem_iwa"
   ]
  },
  {
   "cell_type": "code",
   "execution_count": 321,
   "metadata": {},
   "outputs": [],
   "source": [
    "#rem_PS"
   ]
  },
  {
   "cell_type": "code",
   "execution_count": 322,
   "metadata": {},
   "outputs": [
    {
     "data": {
      "text/plain": [
       "0    0.632911\n",
       "1    0.529101\n",
       "2    0.400000\n",
       "3    0.156006\n",
       "4    0.261097\n",
       "Name: PSH, dtype: float64"
      ]
     },
     "execution_count": 322,
     "metadata": {},
     "output_type": "execute_result"
    }
   ],
   "source": [
    "rem_psh=1/removed_df[\"PSH\"]\n",
    "rem_psh.head()"
   ]
  },
  {
   "cell_type": "code",
   "execution_count": 323,
   "metadata": {},
   "outputs": [
    {
     "data": {
      "text/plain": [
       "0    0.254453\n",
       "1    0.275482\n",
       "2    0.289017\n",
       "3    0.248756\n",
       "4    0.280112\n",
       "Name: PSD, dtype: float64"
      ]
     },
     "execution_count": 323,
     "metadata": {},
     "output_type": "execute_result"
    }
   ],
   "source": [
    "rem_psd=1/removed_df[\"PSD\"]\n",
    "rem_psd.head()"
   ]
  },
  {
   "cell_type": "code",
   "execution_count": 324,
   "metadata": {},
   "outputs": [
    {
     "data": {
      "text/plain": [
       "0    0.133333\n",
       "1    0.218341\n",
       "2    0.333333\n",
       "3    0.617284\n",
       "4    0.480769\n",
       "Name: PSA, dtype: float64"
      ]
     },
     "execution_count": 324,
     "metadata": {},
     "output_type": "execute_result"
    }
   ],
   "source": [
    "rem_psa=1/removed_df[\"PSA\"]\n",
    "rem_psa.head()"
   ]
  },
  {
   "cell_type": "code",
   "execution_count": 325,
   "metadata": {},
   "outputs": [],
   "source": [
    "#Calculating rem_PS values using Normalization"
   ]
  },
  {
   "cell_type": "code",
   "execution_count": 326,
   "metadata": {},
   "outputs": [],
   "source": [
    "rem_tps=rem_psh+rem_psd+rem_psa"
   ]
  },
  {
   "cell_type": "code",
   "execution_count": 327,
   "metadata": {},
   "outputs": [],
   "source": [
    "rem_tps_=1/rem_tps"
   ]
  },
  {
   "cell_type": "code",
   "execution_count": 328,
   "metadata": {},
   "outputs": [],
   "source": [
    "rem_new_psh=rem_tps_*rem_psh"
   ]
  },
  {
   "cell_type": "code",
   "execution_count": 329,
   "metadata": {},
   "outputs": [],
   "source": [
    "rem_new_psd=rem_tps_*rem_psd"
   ]
  },
  {
   "cell_type": "code",
   "execution_count": 330,
   "metadata": {},
   "outputs": [],
   "source": [
    "rem_new_psa=rem_tps_*rem_psa"
   ]
  },
  {
   "cell_type": "code",
   "execution_count": 331,
   "metadata": {},
   "outputs": [],
   "source": [
    "#rem_WH"
   ]
  },
  {
   "cell_type": "code",
   "execution_count": 332,
   "metadata": {},
   "outputs": [
    {
     "data": {
      "text/plain": [
       "0    0.636943\n",
       "1    0.523560\n",
       "2    0.408163\n",
       "3    0.172414\n",
       "4    0.263158\n",
       "Name: WHH, dtype: float64"
      ]
     },
     "execution_count": 332,
     "metadata": {},
     "output_type": "execute_result"
    }
   ],
   "source": [
    "rem_whh=1/removed_df[\"WHH\"]\n",
    "rem_whh.head()"
   ]
  },
  {
   "cell_type": "code",
   "execution_count": 333,
   "metadata": {},
   "outputs": [
    {
     "data": {
      "text/plain": [
       "0    0.263158\n",
       "1    0.285714\n",
       "2    0.303030\n",
       "3    0.256410\n",
       "4    0.312500\n",
       "Name: WHD, dtype: float64"
      ]
     },
     "execution_count": 333,
     "metadata": {},
     "output_type": "execute_result"
    }
   ],
   "source": [
    "rem_whd=1/removed_df[\"WHD\"]\n",
    "rem_whd.head()"
   ]
  },
  {
   "cell_type": "code",
   "execution_count": 334,
   "metadata": {},
   "outputs": [
    {
     "data": {
      "text/plain": [
       "0    0.166667\n",
       "1    0.250000\n",
       "2    0.357143\n",
       "3    0.636943\n",
       "4    0.487805\n",
       "Name: WHA, dtype: float64"
      ]
     },
     "execution_count": 334,
     "metadata": {},
     "output_type": "execute_result"
    }
   ],
   "source": [
    "rem_wha=1/removed_df[\"WHA\"]\n",
    "rem_wha.head()"
   ]
  },
  {
   "cell_type": "code",
   "execution_count": 335,
   "metadata": {},
   "outputs": [],
   "source": [
    "#Calculating rem_WH values using Normalization"
   ]
  },
  {
   "cell_type": "code",
   "execution_count": 336,
   "metadata": {},
   "outputs": [],
   "source": [
    "rem_twh=rem_whh+rem_wha+rem_whd"
   ]
  },
  {
   "cell_type": "code",
   "execution_count": 337,
   "metadata": {},
   "outputs": [],
   "source": [
    "rem_twh_=1/rem_twh"
   ]
  },
  {
   "cell_type": "code",
   "execution_count": 338,
   "metadata": {},
   "outputs": [],
   "source": [
    "rem_new_whh=rem_twh_*rem_whh"
   ]
  },
  {
   "cell_type": "code",
   "execution_count": 339,
   "metadata": {},
   "outputs": [],
   "source": [
    "rem_new_whd=rem_twh_*rem_whd"
   ]
  },
  {
   "cell_type": "code",
   "execution_count": 340,
   "metadata": {},
   "outputs": [],
   "source": [
    "rem_new_wha=rem_twh_*rem_wha"
   ]
  },
  {
   "cell_type": "code",
   "execution_count": null,
   "metadata": {},
   "outputs": [],
   "source": []
  },
  {
   "cell_type": "code",
   "execution_count": null,
   "metadata": {},
   "outputs": [],
   "source": []
  },
  {
   "cell_type": "code",
   "execution_count": 341,
   "metadata": {},
   "outputs": [],
   "source": [
    "df[\"rem_wh_prob\"]=rem_new_whh-rem_new_wha"
   ]
  },
  {
   "cell_type": "code",
   "execution_count": 342,
   "metadata": {},
   "outputs": [
    {
     "data": {
      "text/plain": [
       "0      0.440842\n",
       "1      0.258252\n",
       "2      0.047757\n",
       "3     -0.435864\n",
       "4     -0.211241\n",
       "         ...   \n",
       "375    0.652993\n",
       "376    0.664234\n",
       "377    0.561325\n",
       "378    0.181818\n",
       "379         NaN\n",
       "Name: rem_wh_prob, Length: 380, dtype: float64"
      ]
     },
     "execution_count": 342,
     "metadata": {},
     "output_type": "execute_result"
    }
   ],
   "source": [
    "df[\"rem_wh_prob\"]"
   ]
  },
  {
   "cell_type": "code",
   "execution_count": 343,
   "metadata": {},
   "outputs": [],
   "source": [
    "rem_wh1=df[(df[\"FTR\"]==\"D\") & (df[\"rem_wh_prob\"]>=-1)  & (df[\"rem_wh_prob\"]<-0.8)].index\n",
    "\n",
    "rem_wh2=df[(df[\"FTR\"]==\"D\") & (df[\"rem_wh_prob\"]>=-0.8)  & (df[\"rem_wh_prob\"]<-0.6)].index    \n",
    "\n",
    "rem_wh3=df[(df[\"FTR\"]==\"D\") & (df[\"rem_wh_prob\"]>=-0.6)  & (df[\"rem_wh_prob\"]<-0.4)].index\n",
    "\n",
    "rem_wh4=df[(df[\"FTR\"]==\"D\") & (df[\"rem_wh_prob\"]>=-0.4)  & (df[\"rem_wh_prob\"]<-0.2)].index\n",
    "\n",
    "rem_wh5=df[(df[\"FTR\"]==\"D\") & (df[\"rem_wh_prob\"]>=-0.2)  & (df[\"rem_wh_prob\"]<-2.22e-16)].index\n",
    "\n",
    "rem_wh6=df[(df[\"FTR\"]==\"D\") & (df[\"rem_wh_prob\"]>=-2.22e-16)  & (df[\"rem_wh_prob\"]<0.2)].index\n",
    "\n",
    "rem_wh7=df[(df[\"FTR\"]==\"D\") & (df[\"rem_wh_prob\"]>=0.2)  & (df[\"rem_wh_prob\"]<0.4)].index\n",
    "\n",
    "rem_wh8=df[(df[\"FTR\"]==\"D\") & (df[\"rem_wh_prob\"]>=0.4)  & (df[\"rem_wh_prob\"]<0.6)].index\n",
    "\n",
    "rem_wh9=df[(df[\"FTR\"]==\"D\") & (df[\"rem_wh_prob\"]>=0.6)  & (df[\"rem_wh_prob\"]<0.8)].index\n",
    "\n",
    "rem_wh10=df[(df[\"FTR\"]==\"D\") & (df[\"rem_wh_prob\"]>=0.8)  & (df[\"rem_wh_prob\"]<1)].index\n"
   ]
  },
  {
   "cell_type": "code",
   "execution_count": 345,
   "metadata": {},
   "outputs": [],
   "source": [
    "rem_wh_rows = [[len(rem_wh1)],[len(rem_wh2)],[len(rem_wh3)],[len(rem_wh4)],[(len(rem_wh5))],[len(rem_wh6)],[len(rem_wh7)],[len(rem_wh8)],[len(rem_wh9)],[len(rem_wh10)]]"
   ]
  },
  {
   "cell_type": "code",
   "execution_count": 346,
   "metadata": {},
   "outputs": [],
   "source": [
    "rem_df_wh = pd.DataFrame(rem_wh_rows, columns=[\"rem_num_wh\"])"
   ]
  },
  {
   "cell_type": "code",
   "execution_count": 347,
   "metadata": {},
   "outputs": [],
   "source": [
    "step = 0.2\n",
    "bin_range = np.arange(-1, 1+step, step)\n",
    "rem_wh_rng,bins=pd.cut((rem_new_whh-rem_new_wha),bins=bin_range,include_lowest=True, right=False,retbins=True)  #making bins"
   ]
  },
  {
   "cell_type": "code",
   "execution_count": 348,
   "metadata": {},
   "outputs": [],
   "source": [
    "rem_sorted_wh=rem_wh_rng.value_counts(sort=True)                         #sorting bins\n",
    "rem_sorted_wh = rem_sorted_wh.reindex(natsorted(rem_sorted_wh.index))"
   ]
  },
  {
   "cell_type": "code",
   "execution_count": 349,
   "metadata": {},
   "outputs": [
    {
     "name": "stdout",
     "output_type": "stream",
     "text": [
      "[-1.0, -0.8)          1\n",
      "[-0.8, -0.6)         18\n",
      "[-0.6, -0.4)         21\n",
      "[-0.4, -0.2)         33\n",
      "[-0.2, -2.22e-16)    40\n",
      "[-2.22e-16, 0.2)     67\n",
      "[0.2, 0.4)           53\n",
      "[0.4, 0.6)           51\n",
      "[0.6, 0.8)           41\n",
      "[0.8, 1.0)           11\n",
      "dtype: int64\n"
     ]
    }
   ],
   "source": [
    "print(rem_sorted_wh)   "
   ]
  },
  {
   "cell_type": "code",
   "execution_count": 352,
   "metadata": {},
   "outputs": [],
   "source": [
    "rem_df_sorted_wh = rem_sorted_wh.to_frame(\"counts\")"
   ]
  },
  {
   "cell_type": "code",
   "execution_count": 353,
   "metadata": {},
   "outputs": [],
   "source": [
    "rem_df_wh.reset_index(drop=True, inplace=True)\n",
    "rem_df_sorted_wh.reset_index(drop=True, inplace=True)"
   ]
  },
  {
   "cell_type": "code",
   "execution_count": 354,
   "metadata": {},
   "outputs": [],
   "source": [
    "rem_actl_prob_wh=rem_df_wh[\"rem_num_wh\"]/rem_df_sorted_wh[\"counts\"]   #Number of games resulted \"Draw\" dividing by total number of games corresponding bin"
   ]
  },
  {
   "cell_type": "code",
   "execution_count": 355,
   "metadata": {},
   "outputs": [
    {
     "data": {
      "text/plain": [
       "0    0.000000\n",
       "1    0.111111\n",
       "2    0.095238\n",
       "3    0.151515\n",
       "4    0.175000\n",
       "5    0.283582\n",
       "6    0.245283\n",
       "7    0.215686\n",
       "8    0.097561\n",
       "9    0.000000\n",
       "dtype: float64"
      ]
     },
     "execution_count": 355,
     "metadata": {},
     "output_type": "execute_result"
    }
   ],
   "source": [
    "rem_actl_prob_wh"
   ]
  },
  {
   "cell_type": "code",
   "execution_count": 356,
   "metadata": {},
   "outputs": [],
   "source": [
    "rem_pointswh = [[-0.9],[-0.7],[-0.5],[-0.3],[-0.1],[0.1],[0.3],[0.5],[0.7],[0.9]]  #the middle of intervals was chosen as point."
   ]
  },
  {
   "cell_type": "code",
   "execution_count": 357,
   "metadata": {},
   "outputs": [],
   "source": [
    "rem_wh_points = pd.DataFrame(rem_pointswh, columns=[\"rem_points_wh\"])"
   ]
  },
  {
   "cell_type": "code",
   "execution_count": 359,
   "metadata": {},
   "outputs": [
    {
     "data": {
      "image/png": "[encoded data removed]",
      "text/plain": [
       "<Figure size 432x288 with 1 Axes>"
      ]
     },
     "metadata": {
      "needs_background": "light"
     },
     "output_type": "display_data"
    }
   ],
   "source": [
    "j=sns.scatterplot(x=rem_new_whh-rem_new_wha,y=rem_new_whd)\n",
    "k=sns.scatterplot(x=rem_wh_points[\"rem_points_wh\"],y=rem_actl_prob_wh)\n",
    "j.set_xlabel(\"P(Home Win)-P(Away Win)\")\n",
    "j.set_ylabel(\"P(Draw)\")\n",
    "j.set_title(\"rem_WH\");"
   ]
  },
  {
   "cell_type": "code",
   "execution_count": null,
   "metadata": {},
   "outputs": [],
   "source": []
  },
  {
   "cell_type": "code",
   "execution_count": 360,
   "metadata": {},
   "outputs": [],
   "source": [
    "df[\"rem_ps_prob\"]=rem_new_psh-rem_new_psa"
   ]
  },
  {
   "cell_type": "code",
   "execution_count": 362,
   "metadata": {},
   "outputs": [
    {
     "data": {
      "text/plain": [
       "0      0.489448\n",
       "1      0.303796\n",
       "2      0.065209\n",
       "3     -0.451328\n",
       "4     -0.214949\n",
       "         ...   \n",
       "375    0.648039\n",
       "376    0.658818\n",
       "377    0.545368\n",
       "378    0.196429\n",
       "379         NaN\n",
       "Name: rem_ps_prob, Length: 380, dtype: float64"
      ]
     },
     "execution_count": 362,
     "metadata": {},
     "output_type": "execute_result"
    }
   ],
   "source": [
    "df[\"rem_ps_prob\"]"
   ]
  },
  {
   "cell_type": "code",
   "execution_count": 363,
   "metadata": {},
   "outputs": [],
   "source": [
    "rem_ps1=df[(df[\"FTR\"]==\"D\") & (df[\"rem_ps_prob\"]>=-1)  & (df[\"rem_ps_prob\"]<-0.8)].index\n",
    "\n",
    "rem_ps2=df[(df[\"FTR\"]==\"D\") & (df[\"rem_ps_prob\"]>=-0.8)  & (df[\"rem_ps_prob\"]<-0.6)].index    \n",
    "\n",
    "rem_ps3=df[(df[\"FTR\"]==\"D\") & (df[\"rem_ps_prob\"]>=-0.6)  & (df[\"rem_ps_prob\"]<-0.4)].index\n",
    "\n",
    "rem_ps4=df[(df[\"FTR\"]==\"D\") & (df[\"rem_ps_prob\"]>=-0.4)  & (df[\"rem_ps_prob\"]<-0.2)].index\n",
    "\n",
    "rem_ps5=df[(df[\"FTR\"]==\"D\") & (df[\"rem_ps_prob\"]>=-0.2)  & (df[\"rem_ps_prob\"]<-2.22e-16)].index\n",
    "\n",
    "rem_ps6=df[(df[\"FTR\"]==\"D\") & (df[\"rem_ps_prob\"]>=-2.22e-16)  & (df[\"rem_ps_prob\"]<0.2)].index\n",
    "\n",
    "rem_ps7=df[(df[\"FTR\"]==\"D\") & (df[\"rem_ps_prob\"]>=0.2)  & (df[\"rem_ps_prob\"]<0.4)].index\n",
    "\n",
    "rem_ps8=df[(df[\"FTR\"]==\"D\") & (df[\"rem_ps_prob\"]>=0.4)  & (df[\"rem_ps_prob\"]<0.6)].index\n",
    "\n",
    "rem_ps9=df[(df[\"FTR\"]==\"D\") & (df[\"rem_ps_prob\"]>=0.6)  & (df[\"rem_ps_prob\"]<0.8)].index\n",
    "\n",
    "rem_ps10=df[(df[\"FTR\"]==\"D\") & (df[\"rem_ps_prob\"]>=0.8)  & (df[\"rem_ps_prob\"]<1)].index\n"
   ]
  },
  {
   "cell_type": "code",
   "execution_count": 364,
   "metadata": {},
   "outputs": [],
   "source": [
    "rem_ps_rows = [[len(rem_ps1)],[len(rem_ps2)],[len(rem_ps3)],[len(rem_ps4)],[(len(rem_ps5))],[len(rem_ps6)],[len(rem_ps7)],[len(rem_ps8)],[len(rem_ps9)],[len(rem_ps10)]]"
   ]
  },
  {
   "cell_type": "code",
   "execution_count": 365,
   "metadata": {},
   "outputs": [],
   "source": [
    "rem_df_ps = pd.DataFrame(rem_ps_rows, columns=[\"rem_num_ps\"])"
   ]
  },
  {
   "cell_type": "code",
   "execution_count": 366,
   "metadata": {},
   "outputs": [],
   "source": [
    "step = 0.2\n",
    "bin_range = np.arange(-1, 1+step, step)\n",
    "rem_ps_rng,bins=pd.cut((rem_new_psh-rem_new_psa),bins=bin_range,include_lowest=True, right=False,retbins=True)  #making bins"
   ]
  },
  {
   "cell_type": "code",
   "execution_count": 367,
   "metadata": {},
   "outputs": [],
   "source": [
    "rem_sorted_ps=rem_ps_rng.value_counts(sort=True)                         #sorting bins\n",
    "rem_sorted_ps = rem_sorted_ps.reindex(natsorted(rem_sorted_ps.index))"
   ]
  },
  {
   "cell_type": "code",
   "execution_count": 368,
   "metadata": {},
   "outputs": [
    {
     "name": "stdout",
     "output_type": "stream",
     "text": [
      "[-1.0, -0.8)          1\n",
      "[-0.8, -0.6)         19\n",
      "[-0.6, -0.4)         23\n",
      "[-0.4, -0.2)         30\n",
      "[-0.2, -2.22e-16)    43\n",
      "[-2.22e-16, 0.2)     58\n",
      "[0.2, 0.4)           55\n",
      "[0.4, 0.6)           54\n",
      "[0.6, 0.8)           41\n",
      "[0.8, 1.0)           12\n",
      "dtype: int64\n"
     ]
    }
   ],
   "source": [
    "print(rem_sorted_ps)   "
   ]
  },
  {
   "cell_type": "code",
   "execution_count": 369,
   "metadata": {},
   "outputs": [],
   "source": [
    "rem_df_sorted_ps = rem_sorted_ps.to_frame(\"counts\")"
   ]
  },
  {
   "cell_type": "code",
   "execution_count": 370,
   "metadata": {},
   "outputs": [],
   "source": [
    "rem_df_ps.reset_index(drop=True, inplace=True)\n",
    "rem_df_sorted_ps.reset_index(drop=True, inplace=True)"
   ]
  },
  {
   "cell_type": "code",
   "execution_count": 371,
   "metadata": {},
   "outputs": [],
   "source": [
    "rem_actl_prob_ps=rem_df_ps[\"rem_num_ps\"]/rem_df_sorted_ps[\"counts\"]   #Number of games resulted \"Draw\" dividing by total number of games corresponding bin"
   ]
  },
  {
   "cell_type": "code",
   "execution_count": 372,
   "metadata": {},
   "outputs": [
    {
     "data": {
      "text/plain": [
       "0    0.000000\n",
       "1    0.105263\n",
       "2    0.130435\n",
       "3    0.133333\n",
       "4    0.162791\n",
       "5    0.293103\n",
       "6    0.236364\n",
       "7    0.240741\n",
       "8    0.097561\n",
       "9    0.000000\n",
       "dtype: float64"
      ]
     },
     "execution_count": 372,
     "metadata": {},
     "output_type": "execute_result"
    }
   ],
   "source": [
    "rem_actl_prob_ps"
   ]
  },
  {
   "cell_type": "code",
   "execution_count": 373,
   "metadata": {},
   "outputs": [],
   "source": [
    "rem_pointsps = [[-0.9],[-0.7],[-0.5],[-0.3],[-0.1],[0.1],[0.3],[0.5],[0.7],[0.9]]  #the middle of intervals was chosen as point."
   ]
  },
  {
   "cell_type": "code",
   "execution_count": 374,
   "metadata": {},
   "outputs": [],
   "source": [
    "rem_ps_points = pd.DataFrame(rem_pointsps, columns=[\"rem_points_ps\"])"
   ]
  },
  {
   "cell_type": "code",
   "execution_count": null,
   "metadata": {},
   "outputs": [],
   "source": []
  },
  {
   "cell_type": "code",
   "execution_count": 406,
   "metadata": {},
   "outputs": [
    {
     "data": {
      "image/png": "[encoded data removed]",
      "text/plain": [
       "<Figure size 432x288 with 1 Axes>"
      ]
     },
     "metadata": {
      "needs_background": "light"
     },
     "output_type": "display_data"
    }
   ],
   "source": [
    "l=sns.scatterplot(x=rem_new_psh-rem_new_psa,y=rem_new_psd)\n",
    "m=sns.scatterplot(x=rem_ps_points[\"rem_points_ps\"],y=rem_actl_prob_ps)\n",
    "l.set_xlabel(\"P(Home Win)-P(Away Win)\")\n",
    "l.set_ylabel(\"P(Draw)\")\n",
    "l.set_title(\"rem_PS\");"
   ]
  },
  {
   "cell_type": "code",
   "execution_count": null,
   "metadata": {},
   "outputs": [],
   "source": []
  },
  {
   "cell_type": "code",
   "execution_count": 388,
   "metadata": {},
   "outputs": [],
   "source": [
    "df[\"rem_iw_prob\"]=rem_new_iwh-rem_new_iwa"
   ]
  },
  {
   "cell_type": "code",
   "execution_count": 389,
   "metadata": {},
   "outputs": [
    {
     "data": {
      "text/plain": [
       "0      0.477850\n",
       "1      0.267454\n",
       "2      0.073378\n",
       "3     -0.458015\n",
       "4     -0.205885\n",
       "         ...   \n",
       "375    0.621011\n",
       "376    0.638170\n",
       "377    0.534819\n",
       "378    0.198995\n",
       "379         NaN\n",
       "Name: rem_iw_prob, Length: 380, dtype: float64"
      ]
     },
     "execution_count": 389,
     "metadata": {},
     "output_type": "execute_result"
    }
   ],
   "source": [
    "df[\"rem_iw_prob\"]"
   ]
  },
  {
   "cell_type": "code",
   "execution_count": 390,
   "metadata": {},
   "outputs": [],
   "source": [
    "rem_iw1=df[(df[\"FTR\"]==\"D\") & (df[\"rem_iw_prob\"]>=-1)  & (df[\"rem_iw_prob\"]<-0.8)].index\n",
    "\n",
    "rem_iw2=df[(df[\"FTR\"]==\"D\") & (df[\"rem_iw_prob\"]>=-0.8)  & (df[\"rem_iw_prob\"]<-0.6)].index    \n",
    "\n",
    "rem_iw3=df[(df[\"FTR\"]==\"D\") & (df[\"rem_iw_prob\"]>=-0.6)  & (df[\"rem_iw_prob\"]<-0.4)].index\n",
    "\n",
    "rem_iw4=df[(df[\"FTR\"]==\"D\") & (df[\"rem_iw_prob\"]>=-0.4)  & (df[\"rem_iw_prob\"]<-0.2)].index\n",
    "\n",
    "rem_iw5=df[(df[\"FTR\"]==\"D\") & (df[\"rem_iw_prob\"]>=-0.2)  & (df[\"rem_iw_prob\"]<-2.22e-16)].index\n",
    "\n",
    "rem_iw6=df[(df[\"FTR\"]==\"D\") & (df[\"rem_iw_prob\"]>=-2.22e-16)  & (df[\"rem_iw_prob\"]<0.2)].index\n",
    "\n",
    "rem_iw7=df[(df[\"FTR\"]==\"D\") & (df[\"rem_iw_prob\"]>=0.2)  & (df[\"rem_iw_prob\"]<0.4)].index\n",
    "\n",
    "rem_iw8=df[(df[\"FTR\"]==\"D\") & (df[\"rem_iw_prob\"]>=0.4)  & (df[\"rem_iw_prob\"]<0.6)].index\n",
    "\n",
    "rem_iw9=df[(df[\"FTR\"]==\"D\") & (df[\"rem_iw_prob\"]>=0.6)  & (df[\"rem_iw_prob\"]<0.8)].index\n",
    "\n",
    "rem_iw10=df[(df[\"FTR\"]==\"D\") & (df[\"rem_iw_prob\"]>=0.8)  & (df[\"rem_iw_prob\"]<1)].index\n"
   ]
  },
  {
   "cell_type": "code",
   "execution_count": 391,
   "metadata": {},
   "outputs": [],
   "source": [
    "rem_iw_rows = [[len(rem_iw1)],[len(rem_iw2)],[len(rem_iw3)],[len(rem_iw4)],[(len(rem_iw5))],[len(rem_iw6)],[len(rem_iw7)],[len(rem_iw8)],[len(rem_iw9)],[len(rem_iw10)]]"
   ]
  },
  {
   "cell_type": "code",
   "execution_count": 392,
   "metadata": {},
   "outputs": [],
   "source": [
    "rem_df_iw = pd.DataFrame(rem_iw_rows, columns=[\"rem_num_iw\"])"
   ]
  },
  {
   "cell_type": "code",
   "execution_count": 393,
   "metadata": {},
   "outputs": [],
   "source": [
    "step = 0.2\n",
    "bin_range = np.arange(-1, 1+step, step)\n",
    "rem_iw_rng,bins=pd.cut((rem_new_iwh-rem_new_iwa),bins=bin_range,include_lowest=True, right=False,retbins=True)  #making bins"
   ]
  },
  {
   "cell_type": "code",
   "execution_count": 394,
   "metadata": {},
   "outputs": [],
   "source": [
    "rem_sorted_iw=rem_iw_rng.value_counts(sort=True)                         #sorting bins\n",
    "rem_sorted_iw = rem_sorted_iw.reindex(natsorted(rem_sorted_iw.index))"
   ]
  },
  {
   "cell_type": "code",
   "execution_count": 395,
   "metadata": {},
   "outputs": [
    {
     "name": "stdout",
     "output_type": "stream",
     "text": [
      "[-1.0, -0.8)          0\n",
      "[-0.8, -0.6)         17\n",
      "[-0.6, -0.4)         21\n",
      "[-0.4, -0.2)         33\n",
      "[-0.2, -2.22e-16)    44\n",
      "[-2.22e-16, 0.2)     65\n",
      "[0.2, 0.4)           62\n",
      "[0.4, 0.6)           48\n",
      "[0.6, 0.8)           41\n",
      "[0.8, 1.0)            5\n",
      "dtype: int64\n"
     ]
    }
   ],
   "source": [
    "print(rem_sorted_iw)   "
   ]
  },
  {
   "cell_type": "code",
   "execution_count": 396,
   "metadata": {},
   "outputs": [],
   "source": [
    "rem_df_sorted_iw = rem_sorted_iw.to_frame(\"counts\")"
   ]
  },
  {
   "cell_type": "code",
   "execution_count": 397,
   "metadata": {},
   "outputs": [],
   "source": [
    "rem_df_iw.reset_index(drop=True, inplace=True)\n",
    "rem_df_sorted_iw.reset_index(drop=True, inplace=True)"
   ]
  },
  {
   "cell_type": "code",
   "execution_count": 398,
   "metadata": {},
   "outputs": [],
   "source": [
    "rem_actl_prob_iw=rem_df_iw[\"rem_num_iw\"]/rem_df_sorted_iw[\"counts\"]   #Number of games resulted \"Draw\" dividing by total number of games corresponding bin"
   ]
  },
  {
   "cell_type": "code",
   "execution_count": 399,
   "metadata": {},
   "outputs": [
    {
     "data": {
      "text/plain": [
       "0         NaN\n",
       "1    0.117647\n",
       "2    0.142857\n",
       "3    0.090909\n",
       "4    0.204545\n",
       "5    0.246154\n",
       "6    0.274194\n",
       "7    0.187500\n",
       "8    0.097561\n",
       "9    0.000000\n",
       "dtype: float64"
      ]
     },
     "execution_count": 399,
     "metadata": {},
     "output_type": "execute_result"
    }
   ],
   "source": [
    "rem_actl_prob_iw"
   ]
  },
  {
   "cell_type": "code",
   "execution_count": 401,
   "metadata": {},
   "outputs": [],
   "source": [
    "rem_pointsiw = [[-0.9],[-0.7],[-0.5],[-0.3],[-0.1],[0.1],[0.3],[0.5],[0.7],[0.9]]  #the middle of intervals was chosen as point."
   ]
  },
  {
   "cell_type": "code",
   "execution_count": 402,
   "metadata": {},
   "outputs": [],
   "source": [
    "rem_iw_points = pd.DataFrame(rem_pointsiw, columns=[\"rem_points_iw\"])"
   ]
  },
  {
   "cell_type": "code",
   "execution_count": null,
   "metadata": {},
   "outputs": [],
   "source": []
  },
  {
   "cell_type": "code",
   "execution_count": 407,
   "metadata": {},
   "outputs": [
    {
     "data": {
      "image/png": "[encoded data removed]",
      "text/plain": [
       "<Figure size 432x288 with 1 Axes>"
      ]
     },
     "metadata": {
      "needs_background": "light"
     },
     "output_type": "display_data"
    }
   ],
   "source": [
    "r=sns.scatterplot(x=rem_new_iwh-rem_new_iwa,y=rem_new_iwd)\n",
    "s=sns.scatterplot(x=rem_iw_points[\"rem_points_iw\"],y=rem_actl_prob_iw)\n",
    "r.set_xlabel(\"P(Home Win)-P(Away Win)\")\n",
    "r.set_ylabel(\"P(Draw)\")\n",
    "r.set_title(\"rem_IW\");"
   ]
  },
  {
   "cell_type": "code",
   "execution_count": null,
   "metadata": {},
   "outputs": [],
   "source": []
  },
  {
   "cell_type": "code",
   "execution_count": 409,
   "metadata": {},
   "outputs": [],
   "source": [
    "df[\"rem_bw_prob\"]=rem_new_bwh-rem_new_bwa"
   ]
  },
  {
   "cell_type": "code",
   "execution_count": 410,
   "metadata": {},
   "outputs": [
    {
     "data": {
      "text/plain": [
       "0      0.501733\n",
       "1      0.285426\n",
       "2      0.065875\n",
       "3     -0.452785\n",
       "4     -0.225806\n",
       "         ...   \n",
       "375    0.633311\n",
       "376    0.674740\n",
       "377    0.537953\n",
       "378    0.181818\n",
       "379         NaN\n",
       "Name: rem_bw_prob, Length: 380, dtype: float64"
      ]
     },
     "execution_count": 410,
     "metadata": {},
     "output_type": "execute_result"
    }
   ],
   "source": [
    "df[\"rem_bw_prob\"]"
   ]
  },
  {
   "cell_type": "code",
   "execution_count": 411,
   "metadata": {},
   "outputs": [],
   "source": [
    "rem_bw1=df[(df[\"FTR\"]==\"D\") & (df[\"rem_bw_prob\"]>=-1)  & (df[\"rem_bw_prob\"]<-0.8)].index\n",
    "\n",
    "rem_bw2=df[(df[\"FTR\"]==\"D\") & (df[\"rem_bw_prob\"]>=-0.8)  & (df[\"rem_bw_prob\"]<-0.6)].index    \n",
    "\n",
    "rem_bw3=df[(df[\"FTR\"]==\"D\") & (df[\"rem_bw_prob\"]>=-0.6)  & (df[\"rem_bw_prob\"]<-0.4)].index\n",
    "\n",
    "rem_bw4=df[(df[\"FTR\"]==\"D\") & (df[\"rem_bw_prob\"]>=-0.4)  & (df[\"rem_bw_prob\"]<-0.2)].index\n",
    "\n",
    "rem_bw5=df[(df[\"FTR\"]==\"D\") & (df[\"rem_bw_prob\"]>=-0.2)  & (df[\"rem_bw_prob\"]<-2.22e-16)].index\n",
    "\n",
    "rem_bw6=df[(df[\"FTR\"]==\"D\") & (df[\"rem_bw_prob\"]>=-2.22e-16)  & (df[\"rem_bw_prob\"]<0.2)].index\n",
    "\n",
    "rem_bw7=df[(df[\"FTR\"]==\"D\") & (df[\"rem_bw_prob\"]>=0.2)  & (df[\"rem_bw_prob\"]<0.4)].index\n",
    "\n",
    "rem_bw8=df[(df[\"FTR\"]==\"D\") & (df[\"rem_bw_prob\"]>=0.4)  & (df[\"rem_bw_prob\"]<0.6)].index\n",
    "\n",
    "rem_bw9=df[(df[\"FTR\"]==\"D\") & (df[\"rem_bw_prob\"]>=0.6)  & (df[\"rem_bw_prob\"]<0.8)].index\n",
    "\n",
    "rem_bw10=df[(df[\"FTR\"]==\"D\") & (df[\"rem_bw_prob\"]>=0.8)  & (df[\"rem_bw_prob\"]<1)].index\n"
   ]
  },
  {
   "cell_type": "code",
   "execution_count": 412,
   "metadata": {},
   "outputs": [],
   "source": [
    "rem_bw_rows = [[len(rem_bw1)],[len(rem_bw2)],[len(rem_bw3)],[len(rem_bw4)],[(len(rem_bw5))],[len(rem_bw6)],[len(rem_bw7)],[len(rem_bw8)],[len(rem_bw9)],[len(rem_bw10)]]"
   ]
  },
  {
   "cell_type": "code",
   "execution_count": 413,
   "metadata": {},
   "outputs": [],
   "source": [
    "rem_df_bw = pd.DataFrame(rem_bw_rows, columns=[\"rem_num_bw\"])"
   ]
  },
  {
   "cell_type": "code",
   "execution_count": 414,
   "metadata": {},
   "outputs": [],
   "source": [
    "step = 0.2\n",
    "bin_range = np.arange(-1, 1+step, step)\n",
    "rem_bw_rng,bins=pd.cut((rem_new_bwh-rem_new_bwa),bins=bin_range,include_lowest=True, right=False,retbins=True)  #making bins"
   ]
  },
  {
   "cell_type": "code",
   "execution_count": 415,
   "metadata": {},
   "outputs": [],
   "source": [
    "rem_sorted_bw=rem_bw_rng.value_counts(sort=True)                         #sorting bins\n",
    "rem_sorted_bw = rem_sorted_bw.reindex(natsorted(rem_sorted_iw.index))"
   ]
  },
  {
   "cell_type": "code",
   "execution_count": 416,
   "metadata": {},
   "outputs": [
    {
     "name": "stdout",
     "output_type": "stream",
     "text": [
      "[-1.0, -0.8)          0\n",
      "[-0.8, -0.6)         20\n",
      "[-0.6, -0.4)         22\n",
      "[-0.4, -0.2)         33\n",
      "[-0.2, -2.22e-16)    39\n",
      "[-2.22e-16, 0.2)     64\n",
      "[0.2, 0.4)           56\n",
      "[0.4, 0.6)           50\n",
      "[0.6, 0.8)           43\n",
      "[0.8, 1.0)            9\n",
      "dtype: int64\n"
     ]
    }
   ],
   "source": [
    "print(rem_sorted_bw)   "
   ]
  },
  {
   "cell_type": "code",
   "execution_count": 417,
   "metadata": {},
   "outputs": [],
   "source": [
    "rem_df_sorted_bw = rem_sorted_bw.to_frame(\"counts\")"
   ]
  },
  {
   "cell_type": "code",
   "execution_count": 418,
   "metadata": {},
   "outputs": [],
   "source": [
    "rem_df_bw.reset_index(drop=True, inplace=True)\n",
    "rem_df_sorted_bw.reset_index(drop=True, inplace=True)"
   ]
  },
  {
   "cell_type": "code",
   "execution_count": 419,
   "metadata": {},
   "outputs": [],
   "source": [
    "rem_actl_prob_bw=rem_df_bw[\"rem_num_bw\"]/rem_df_sorted_bw[\"counts\"]   #Number of games resulted \"Draw\" dividing by total number of games corresponding bin"
   ]
  },
  {
   "cell_type": "code",
   "execution_count": 420,
   "metadata": {},
   "outputs": [
    {
     "data": {
      "text/plain": [
       "0         NaN\n",
       "1    0.100000\n",
       "2    0.136364\n",
       "3    0.121212\n",
       "4    0.179487\n",
       "5    0.265625\n",
       "6    0.267857\n",
       "7    0.220000\n",
       "8    0.093023\n",
       "9    0.000000\n",
       "dtype: float64"
      ]
     },
     "execution_count": 420,
     "metadata": {},
     "output_type": "execute_result"
    }
   ],
   "source": [
    "rem_actl_prob_bw"
   ]
  },
  {
   "cell_type": "code",
   "execution_count": 421,
   "metadata": {},
   "outputs": [],
   "source": [
    "rem_pointsbw = [[-0.9],[-0.7],[-0.5],[-0.3],[-0.1],[0.1],[0.3],[0.5],[0.7],[0.9]]  #the middle of intervals was chosen as point."
   ]
  },
  {
   "cell_type": "code",
   "execution_count": 422,
   "metadata": {},
   "outputs": [],
   "source": [
    "rem_bw_points = pd.DataFrame(rem_pointsbw, columns=[\"rem_points_bw\"])"
   ]
  },
  {
   "cell_type": "code",
   "execution_count": null,
   "metadata": {},
   "outputs": [],
   "source": []
  },
  {
   "cell_type": "code",
   "execution_count": 423,
   "metadata": {},
   "outputs": [
    {
     "data": {
      "image/png": "[encoded data removed]",
      "text/plain": [
       "<Figure size 432x288 with 1 Axes>"
      ]
     },
     "metadata": {
      "needs_background": "light"
     },
     "output_type": "display_data"
    }
   ],
   "source": [
    "q=sns.scatterplot(x=rem_new_bwh-rem_new_bwa,y=rem_new_bwd)\n",
    "w=sns.scatterplot(x=rem_bw_points[\"rem_points_bw\"],y=rem_actl_prob_bw)\n",
    "q.set_xlabel(\"P(Home Win)-P(Away Win)\")\n",
    "q.set_ylabel(\"P(Draw)\")\n",
    "q.set_title(\"rem_BW\");"
   ]
  },
  {
   "cell_type": "code",
   "execution_count": null,
   "metadata": {},
   "outputs": [],
   "source": [
    "# I would say that the red cards doesn't change my results significantly. Also, from previous analysis, it shows that while difference between P(Home)-P(Away) \n",
    "#approximates to zero, betting on draw is more likely to bring money."
   ]
  }
 ],
 "metadata": {
  "kernelspec": {
   "display_name": "Python 3",
   "language": "python",
   "name": "python3"
  },
  "language_info": {
   "codemirror_mode": {
    "name": "ipython",
    "version": 3
   },
   "file_extension": ".py",
   "mimetype": "text/x-python",
   "name": "python",
   "nbconvert_exporter": "python",
   "pygments_lexer": "ipython3",
   "version": "3.7.6"
  }
 },
 "nbformat": 4,
 "nbformat_minor": 4
}
